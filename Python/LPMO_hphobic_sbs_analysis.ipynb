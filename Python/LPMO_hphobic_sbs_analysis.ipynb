{
 "cells": [
  {
   "cell_type": "markdown",
   "id": "0512d33e",
   "metadata": {
    "slideshow": {
     "slide_type": "skip"
    }
   },
   "source": [
    "# Initialize"
   ]
  },
  {
   "cell_type": "markdown",
   "id": "6c459587",
   "metadata": {
    "slideshow": {
     "slide_type": "skip"
    }
   },
   "source": [
    "## Import packages"
   ]
  },
  {
   "cell_type": "code",
   "execution_count": 17,
   "id": "acaa25e2",
   "metadata": {
    "ExecuteTime": {
     "end_time": "2023-06-06T21:33:17.461888Z",
     "start_time": "2023-06-06T21:33:15.301651Z"
    },
    "slideshow": {
     "slide_type": "skip"
    }
   },
   "outputs": [],
   "source": [
    "%matplotlib inline\n",
    "\n",
    "import math\n",
    "import numpy as np\n",
    "import matplotlib.pyplot as plt\n",
    "from mpl_toolkits.mplot3d import Axes3D\n",
    "from scipy.spatial import ConvexHull, distance_matrix\n",
    "import seaborn as sns\n",
    "import json\n",
    "from datetime import date, datetime\n",
    "import os\n",
    "import matplotlib.animation as animation\n",
    "from IPython.display import HTML, clear_output, display\n",
    "import matplotlib\n",
    "import re\n",
    "#matplotlib.use('Agg')  # Set the backend to 'agg'\n",
    "\n",
    "\n",
    "import pandas as pd\n",
    "from Bio.PDB import PDBParser\n",
    "\n",
    "# Global variables\n",
    "XYZ = ['x', 'y', 'z']"
   ]
  },
  {
   "cell_type": "markdown",
   "id": "39161593",
   "metadata": {
    "slideshow": {
     "slide_type": "-"
    }
   },
   "source": [
    "## Declare functions"
   ]
  },
  {
   "cell_type": "code",
   "execution_count": 2,
   "id": "4379e062",
   "metadata": {
    "ExecuteTime": {
     "end_time": "2023-06-06T21:33:39.484346Z",
     "start_time": "2023-06-06T21:33:39.427617Z"
    },
    "code_folding": [
     3,
     15,
     36,
     57,
     160,
     185,
     203,
     269,
     292,
     316,
     342,
     349
    ],
    "slideshow": {
     "slide_type": "skip"
    }
   },
   "outputs": [],
   "source": [
    "## Treat sets of points as pd.DataFrame\n",
    "## Treat individial points as pd.Series    \n",
    "\n",
    "def read_pdb(pdb_file):\n",
    "    '''Take a PDB file and convert it to a pandas dataframe'''\n",
    "    parser = PDBParser(PERMISSIVE=1)\n",
    "    structure = parser.get_structure(\"structure\", pdb_file)\n",
    "    data = []\n",
    "    for model in structure:\n",
    "        for chain in model:\n",
    "            for residue in chain:\n",
    "                for atom in residue:\n",
    "                    data.append({\"modelNo\": model.id,\n",
    "                                 \"chain\": chain.id,\n",
    "                                 \"residue\": residue.get_id()[1],\n",
    "                                 \"amino_acid\": residue.get_resname(),\n",
    "                                 \"atom_name\": atom.get_name(),\n",
    "                                 \"x\": atom.get_coord()[0],\n",
    "                                 \"y\": atom.get_coord()[1],\n",
    "                                 \"z\": atom.get_coord()[2],\n",
    "                                 })\n",
    "    df = pd.DataFrame(data)\n",
    "    return df\n",
    "\n",
    "def get_distance_matrix(df, only_CA=True):\n",
    "    \"\"\"Called inside of his_brace_check\"\"\"\n",
    "    # Make sure df only has alpha carbons\n",
    "    if only_CA and \"atom_name\" in df:\n",
    "        df = df[df.atom_name == \"CA\"]\n",
    "    # Or keep only one atom per residue\n",
    "    if only_CA and 'residue' in df:\n",
    "        df = df.drop_duplicates('residue')\n",
    "        df = df.set_index('residue')\n",
    "    elif not only_CA and 'residue' in df:\n",
    "        df = df.set_index(['residue', 'atom_name'])\n",
    "    else:\n",
    "        df = df.reset_index(drop=True)\n",
    "    # calculate the distance matrix with the function from scipy.spatial\n",
    "    dists_his = pd.DataFrame(distance_matrix(df[['x','y','z']].values, df[['x','y','z']].values),\n",
    "                         index=df.index, columns=df.index)\n",
    "    # Reduce to the minimum distance between the residues\n",
    "    try:\n",
    "        dists_his = dists_his.groupby('residue').min().groupby('residue', axis=1).min()\n",
    "    except Exception as e:\n",
    "        print(\"get_distance_matrix error: {}\".format(e))\n",
    "    return dists_his\n",
    "\n",
    "def get_MMH(df, n_his, his_brace_thres=10, only_CA=True):\n",
    "    '''Check if the N-terminal histidine is close to another histidine'''\n",
    "    # Get df with only HIS residues\n",
    "    df_his = df[df.amino_acid == \"HIS\"]\n",
    "    # Get distances\n",
    "    dists_his = get_distance_matrix(df_his, only_CA=only_CA)\n",
    "    # Check if there is any other His within the threshold from n_his\n",
    "    if (dists_his[n_his] <= his_brace_thres).drop(n_his).any():\n",
    "        is_his_brace = True\n",
    "    else:\n",
    "        is_his_brace = False\n",
    "    return is_his_brace\n",
    "    "
   ]
  },
  {
   "cell_type": "code",
   "execution_count": 9,
   "id": "53979a9e",
   "metadata": {},
   "outputs": [
    {
     "data": {
      "text/html": [
       "<div>\n",
       "<style scoped>\n",
       "    .dataframe tbody tr th:only-of-type {\n",
       "        vertical-align: middle;\n",
       "    }\n",
       "\n",
       "    .dataframe tbody tr th {\n",
       "        vertical-align: top;\n",
       "    }\n",
       "\n",
       "    .dataframe thead th {\n",
       "        text-align: right;\n",
       "    }\n",
       "</style>\n",
       "<table border=\"1\" class=\"dataframe\">\n",
       "  <thead>\n",
       "    <tr style=\"text-align: right;\">\n",
       "      <th></th>\n",
       "      <th>Gene ID</th>\n",
       "      <th>EC#</th>\n",
       "      <th>HMMER</th>\n",
       "      <th>dbCAN_sub</th>\n",
       "      <th>DIAMOND</th>\n",
       "      <th>Signalp</th>\n",
       "      <th>#ofTools</th>\n",
       "    </tr>\n",
       "  </thead>\n",
       "  <tbody>\n",
       "    <tr>\n",
       "      <th>0</th>\n",
       "      <td>sp|A3KKC4|LCEMO_STRA7</td>\n",
       "      <td>1.14.99.54|1.14.99.53</td>\n",
       "      <td>AA10(35-225)+CBM2(265-353)</td>\n",
       "      <td>AA10_e30+CBM2_e70</td>\n",
       "      <td>AA10+CBM2</td>\n",
       "      <td>N</td>\n",
       "      <td>3</td>\n",
       "    </tr>\n",
       "    <tr>\n",
       "      <th>1</th>\n",
       "      <td>tr|A0A014N4U1|A0A014N4U1_9ACTN</td>\n",
       "      <td>1.14.99.54|1.14.99.53</td>\n",
       "      <td>AA10(48-239)+CBM2(274-362)</td>\n",
       "      <td>AA10_e30+CBM2_e70</td>\n",
       "      <td>AA10+CBM2</td>\n",
       "      <td>N</td>\n",
       "      <td>3</td>\n",
       "    </tr>\n",
       "    <tr>\n",
       "      <th>2</th>\n",
       "      <td>tr|A0A060ZR13|A0A060ZR13_9ACTN</td>\n",
       "      <td>1.14.99.54|1.14.99.53</td>\n",
       "      <td>AA10(48-239)+CBM2(277-367)</td>\n",
       "      <td>AA10_e30+CBM2_e70</td>\n",
       "      <td>AA10+CBM2</td>\n",
       "      <td>Y(1-48)</td>\n",
       "      <td>3</td>\n",
       "    </tr>\n",
       "    <tr>\n",
       "      <th>3</th>\n",
       "      <td>tr|A0A066U3Z1|A0A066U3Z1_9PSEU</td>\n",
       "      <td>1.14.99.54|1.14.99.53</td>\n",
       "      <td>AA10(32-220)+CBM2(273-367)</td>\n",
       "      <td>AA10_e30+CBM2_e70</td>\n",
       "      <td>AA10+CBM2</td>\n",
       "      <td>Y(1-32)</td>\n",
       "      <td>3</td>\n",
       "    </tr>\n",
       "    <tr>\n",
       "      <th>4</th>\n",
       "      <td>tr|A0A066YW87|A0A066YW87_9ACTN</td>\n",
       "      <td>1.14.99.54|1.14.99.53</td>\n",
       "      <td>AA10(33-223)+CBM2(273-363)</td>\n",
       "      <td>AA10_e30+CBM2_e70</td>\n",
       "      <td>AA10+CBM2</td>\n",
       "      <td>Y(1-33)</td>\n",
       "      <td>3</td>\n",
       "    </tr>\n",
       "  </tbody>\n",
       "</table>\n",
       "</div>"
      ],
      "text/plain": [
       "                          Gene ID                    EC#  \\\n",
       "0           sp|A3KKC4|LCEMO_STRA7  1.14.99.54|1.14.99.53   \n",
       "1  tr|A0A014N4U1|A0A014N4U1_9ACTN  1.14.99.54|1.14.99.53   \n",
       "2  tr|A0A060ZR13|A0A060ZR13_9ACTN  1.14.99.54|1.14.99.53   \n",
       "3  tr|A0A066U3Z1|A0A066U3Z1_9PSEU  1.14.99.54|1.14.99.53   \n",
       "4  tr|A0A066YW87|A0A066YW87_9ACTN  1.14.99.54|1.14.99.53   \n",
       "\n",
       "                        HMMER          dbCAN_sub    DIAMOND  Signalp  #ofTools  \n",
       "0  AA10(35-225)+CBM2(265-353)  AA10_e30+CBM2_e70  AA10+CBM2        N         3  \n",
       "1  AA10(48-239)+CBM2(274-362)  AA10_e30+CBM2_e70  AA10+CBM2        N         3  \n",
       "2  AA10(48-239)+CBM2(277-367)  AA10_e30+CBM2_e70  AA10+CBM2  Y(1-48)         3  \n",
       "3  AA10(32-220)+CBM2(273-367)  AA10_e30+CBM2_e70  AA10+CBM2  Y(1-32)         3  \n",
       "4  AA10(33-223)+CBM2(273-363)  AA10_e30+CBM2_e70  AA10+CBM2  Y(1-33)         3  "
      ]
     },
     "execution_count": 9,
     "metadata": {},
     "output_type": "execute_result"
    }
   ],
   "source": [
    "df_dbcan = pd.read_csv('../04-find_motifs/04-dbcan_result.tsv', sep='\\t', header=0)\n",
    "df_dbcan.head()"
   ]
  },
  {
   "cell_type": "code",
   "execution_count": 50,
   "id": "72b685ac",
   "metadata": {},
   "outputs": [
    {
     "data": {
      "text/plain": [
       "'35-225)+CBM2(265-353'"
      ]
     },
     "execution_count": 50,
     "metadata": {},
     "output_type": "execute_result"
    }
   ],
   "source": [
    "re.match(\"AA10\\((.*)\\)\", \"AA10(35-225)+CBM2(265-353)\",)[1]"
   ]
  },
  {
   "cell_type": "code",
   "execution_count": 14,
   "id": "8a331f12",
   "metadata": {},
   "outputs": [],
   "source": [
    "#Extract the accession number\n",
    "df_dbcan['ID'] = df_dbcan['Gene ID'].apply(lambda x: x.split('|')[1])\n",
    "# Extract the start and end of AA10\n",
    "def get_AA10(s):\n",
    "    if \"AA10\" in s:\n",
    "        re.match()\n",
    "# Extract the start and end of AA10\n"
   ]
  },
  {
   "cell_type": "code",
   "execution_count": 15,
   "id": "cd51a41a",
   "metadata": {},
   "outputs": [
    {
     "data": {
      "text/html": [
       "<div>\n",
       "<style scoped>\n",
       "    .dataframe tbody tr th:only-of-type {\n",
       "        vertical-align: middle;\n",
       "    }\n",
       "\n",
       "    .dataframe tbody tr th {\n",
       "        vertical-align: top;\n",
       "    }\n",
       "\n",
       "    .dataframe thead th {\n",
       "        text-align: right;\n",
       "    }\n",
       "</style>\n",
       "<table border=\"1\" class=\"dataframe\">\n",
       "  <thead>\n",
       "    <tr style=\"text-align: right;\">\n",
       "      <th></th>\n",
       "      <th>Gene ID</th>\n",
       "      <th>EC#</th>\n",
       "      <th>HMMER</th>\n",
       "      <th>dbCAN_sub</th>\n",
       "      <th>DIAMOND</th>\n",
       "      <th>Signalp</th>\n",
       "      <th>#ofTools</th>\n",
       "      <th>ID</th>\n",
       "    </tr>\n",
       "  </thead>\n",
       "  <tbody>\n",
       "    <tr>\n",
       "      <th>0</th>\n",
       "      <td>sp|A3KKC4|LCEMO_STRA7</td>\n",
       "      <td>1.14.99.54|1.14.99.53</td>\n",
       "      <td>AA10(35-225)+CBM2(265-353)</td>\n",
       "      <td>AA10_e30+CBM2_e70</td>\n",
       "      <td>AA10+CBM2</td>\n",
       "      <td>N</td>\n",
       "      <td>3</td>\n",
       "      <td>A3KKC4</td>\n",
       "    </tr>\n",
       "    <tr>\n",
       "      <th>1</th>\n",
       "      <td>tr|A0A014N4U1|A0A014N4U1_9ACTN</td>\n",
       "      <td>1.14.99.54|1.14.99.53</td>\n",
       "      <td>AA10(48-239)+CBM2(274-362)</td>\n",
       "      <td>AA10_e30+CBM2_e70</td>\n",
       "      <td>AA10+CBM2</td>\n",
       "      <td>N</td>\n",
       "      <td>3</td>\n",
       "      <td>A0A014N4U1</td>\n",
       "    </tr>\n",
       "    <tr>\n",
       "      <th>2</th>\n",
       "      <td>tr|A0A060ZR13|A0A060ZR13_9ACTN</td>\n",
       "      <td>1.14.99.54|1.14.99.53</td>\n",
       "      <td>AA10(48-239)+CBM2(277-367)</td>\n",
       "      <td>AA10_e30+CBM2_e70</td>\n",
       "      <td>AA10+CBM2</td>\n",
       "      <td>Y(1-48)</td>\n",
       "      <td>3</td>\n",
       "      <td>A0A060ZR13</td>\n",
       "    </tr>\n",
       "    <tr>\n",
       "      <th>3</th>\n",
       "      <td>tr|A0A066U3Z1|A0A066U3Z1_9PSEU</td>\n",
       "      <td>1.14.99.54|1.14.99.53</td>\n",
       "      <td>AA10(32-220)+CBM2(273-367)</td>\n",
       "      <td>AA10_e30+CBM2_e70</td>\n",
       "      <td>AA10+CBM2</td>\n",
       "      <td>Y(1-32)</td>\n",
       "      <td>3</td>\n",
       "      <td>A0A066U3Z1</td>\n",
       "    </tr>\n",
       "    <tr>\n",
       "      <th>4</th>\n",
       "      <td>tr|A0A066YW87|A0A066YW87_9ACTN</td>\n",
       "      <td>1.14.99.54|1.14.99.53</td>\n",
       "      <td>AA10(33-223)+CBM2(273-363)</td>\n",
       "      <td>AA10_e30+CBM2_e70</td>\n",
       "      <td>AA10+CBM2</td>\n",
       "      <td>Y(1-33)</td>\n",
       "      <td>3</td>\n",
       "      <td>A0A066YW87</td>\n",
       "    </tr>\n",
       "  </tbody>\n",
       "</table>\n",
       "</div>"
      ],
      "text/plain": [
       "                          Gene ID                    EC#  \\\n",
       "0           sp|A3KKC4|LCEMO_STRA7  1.14.99.54|1.14.99.53   \n",
       "1  tr|A0A014N4U1|A0A014N4U1_9ACTN  1.14.99.54|1.14.99.53   \n",
       "2  tr|A0A060ZR13|A0A060ZR13_9ACTN  1.14.99.54|1.14.99.53   \n",
       "3  tr|A0A066U3Z1|A0A066U3Z1_9PSEU  1.14.99.54|1.14.99.53   \n",
       "4  tr|A0A066YW87|A0A066YW87_9ACTN  1.14.99.54|1.14.99.53   \n",
       "\n",
       "                        HMMER          dbCAN_sub    DIAMOND  Signalp  \\\n",
       "0  AA10(35-225)+CBM2(265-353)  AA10_e30+CBM2_e70  AA10+CBM2        N   \n",
       "1  AA10(48-239)+CBM2(274-362)  AA10_e30+CBM2_e70  AA10+CBM2        N   \n",
       "2  AA10(48-239)+CBM2(277-367)  AA10_e30+CBM2_e70  AA10+CBM2  Y(1-48)   \n",
       "3  AA10(32-220)+CBM2(273-367)  AA10_e30+CBM2_e70  AA10+CBM2  Y(1-32)   \n",
       "4  AA10(33-223)+CBM2(273-363)  AA10_e30+CBM2_e70  AA10+CBM2  Y(1-33)   \n",
       "\n",
       "   #ofTools          ID  \n",
       "0         3      A3KKC4  \n",
       "1         3  A0A014N4U1  \n",
       "2         3  A0A060ZR13  \n",
       "3         3  A0A066U3Z1  \n",
       "4         3  A0A066YW87  "
      ]
     },
     "execution_count": 15,
     "metadata": {},
     "output_type": "execute_result"
    }
   ],
   "source": [
    "df_dbcan.head()"
   ]
  },
  {
   "cell_type": "code",
   "execution_count": null,
   "id": "2a429681",
   "metadata": {
    "ExecuteTime": {
     "end_time": "2023-06-06T19:06:57.069806Z",
     "start_time": "2023-06-06T19:06:57.069798Z"
    }
   },
   "outputs": [],
   "source": [
    "%%time\n",
    "import warnings\n",
    "from tqdm import tqdm\n",
    "\n",
    "with warnings.catch_warnings():\n",
    "    warnings.simplefilter('ignore')\n",
    "    #Run all\n",
    "    failedpdbs = {}\n",
    "    errorsfile = f'errors_lpmo_sbs_{datetime.now().isoformat(sep=\"T\", timespec=\"seconds\").replace(\":\",\".\")}.txt'\n",
    "    for up in tqdm(allups):\n",
    "        try:\n",
    "            pdbfile = './LPMO/all_AF_models/AF-{}-F1-model_v4.pdb'.format(up)\n",
    "            paefile = './LPMO/all_AF_models/AF-{}-F1-predicted_aligned_error_v4.json'.format(up)\n",
    "            process_pdb(pdbfile, paefile, plot=False, write=True, printresult=False)\n",
    "        except Exception as e:\n",
    "            with open(errorsfile, 'a') as f:\n",
    "                f.write(\"Error in {}: {}\\n\".format(up, e))\n",
    "            failedpdbs[up] = e"
   ]
  },
  {
   "cell_type": "markdown",
   "id": "942b902a",
   "metadata": {},
   "source": [
    "### Read the results file"
   ]
  },
  {
   "cell_type": "code",
   "execution_count": null,
   "id": "803b48bd",
   "metadata": {
    "ExecuteTime": {
     "end_time": "2023-06-06T19:06:57.072521Z",
     "start_time": "2023-06-06T19:06:57.072512Z"
    }
   },
   "outputs": [],
   "source": [
    "# Read the results file\n",
    "df_hphob = pd.read_csv('./2023-06-16-results_hphob.csv', sep=';', header=0)\n",
    "df_hphob.head()"
   ]
  },
  {
   "cell_type": "code",
   "execution_count": null,
   "id": "f2430173",
   "metadata": {
    "scrolled": false
   },
   "outputs": [],
   "source": [
    "df_hphob.is_his_brace.value_counts()"
   ]
  },
  {
   "cell_type": "code",
   "execution_count": null,
   "id": "6dcb9ba8",
   "metadata": {},
   "outputs": [],
   "source": [
    "# Filter out false\n",
    "df_hphob_filt = df_hphob[df_hphob.is_his_brace]"
   ]
  },
  {
   "cell_type": "code",
   "execution_count": null,
   "id": "79dc2506",
   "metadata": {
    "ExecuteTime": {
     "end_time": "2023-06-06T19:06:57.076304Z",
     "start_time": "2023-06-06T19:06:57.076296Z"
    }
   },
   "outputs": [],
   "source": [
    "threshold = 140\n",
    "plt.figure(figsize=(10,6))\n",
    "ax = sns.histplot(df_hphob_filt.cat_dom_length, color='g')\n",
    "plt.title(\"Length of catalytic domain\")\n",
    "ax.axvline(threshold, linestyle=\":\", color=\"r\", linewidth=2);"
   ]
  },
  {
   "cell_type": "code",
   "execution_count": null,
   "id": "de29ceb5",
   "metadata": {},
   "outputs": [],
   "source": [
    "# Filter those with shorter cat_dom\n",
    "df_hphob_filt = df_hphob_filt[df_hphob_filt.cat_dom_length > threshold]"
   ]
  },
  {
   "cell_type": "code",
   "execution_count": null,
   "id": "e5ccd2d5",
   "metadata": {
    "ExecuteTime": {
     "end_time": "2023-06-06T19:06:57.077343Z",
     "start_time": "2023-06-06T19:06:57.077335Z"
    },
    "scrolled": false
   },
   "outputs": [],
   "source": [
    "# Check the hidrophobic score distribution\n",
    "plt.figure(figsize=(14,5))\n",
    "plt.subplot(2,1,1)\n",
    "ax = sns.histplot(df_hphob.hphob_fraction)\n",
    "ax.axvline(0.3, linestyle=\":\", color=\"r\", linewidth=2)\n",
    "ax.set_xlabel('')\n",
    "plt.yscale('log')\n",
    "plt.subplot(2,1,2, sharex=ax)\n",
    "ax2 = sns.histplot(df_hphob_filt.hphob_fraction)\n",
    "ax2.axvline(0.3, linestyle=\":\", color=\"r\", linewidth=2)\n",
    "plt.yscale('log')"
   ]
  },
  {
   "cell_type": "code",
   "execution_count": null,
   "id": "e8238557",
   "metadata": {
    "ExecuteTime": {
     "end_time": "2023-06-06T19:06:57.079803Z",
     "start_time": "2023-06-06T19:06:57.079794Z"
    }
   },
   "outputs": [],
   "source": [
    "# Get those with > 0.3 hydrophobicity\n",
    "df_hphob_filt = df_hphob_filt[df_hphob_filt.hphob_fraction >= 0.3].sort_values('hphob_fraction', ascending=False)\n",
    "df_hphob_filt.head(20)"
   ]
  },
  {
   "cell_type": "code",
   "execution_count": null,
   "id": "334a0523",
   "metadata": {},
   "outputs": [],
   "source": [
    "# save the filtered dataframe\n",
    "df_hphob_filt.drop_duplicates().to_csv('results_hphob/2023-06-16-filtered_results.csv', sep=';', index=False)"
   ]
  },
  {
   "cell_type": "code",
   "execution_count": null,
   "id": "14315d7e",
   "metadata": {},
   "outputs": [],
   "source": [
    "# Read results\n",
    "df_hphob_filt = pd.read_csv('results_hphob/2023-06-16-filtered_results.csv', sep=';', header=0)"
   ]
  },
  {
   "cell_type": "code",
   "execution_count": null,
   "id": "b107080c",
   "metadata": {
    "ExecuteTime": {
     "end_time": "2023-06-06T19:06:57.050653Z",
     "start_time": "2023-06-06T19:06:57.050643Z"
    },
    "scrolled": false
   },
   "outputs": [],
   "source": [
    "# Checking an individual LPMO\n",
    "#up = 'A0A2L2BFS1'\n",
    "#pdbfile = './LPMO/all_AF_models/AF-{}-F1-model_v4.pdb'.format(up)\n",
    "#paefile = './LPMO/all_AF_models/AF-{}-F1-predicted_aligned_error_v4.json'.format(up)\n",
    "\n",
    "#res = process_pdb(pdbfile, paefile, plot=True, write=False, printresult=True, return_dict=True, animate=False)"
   ]
  },
  {
   "cell_type": "markdown",
   "id": "46a61709",
   "metadata": {},
   "source": [
    "### MSA"
   ]
  },
  {
   "cell_type": "code",
   "execution_count": null,
   "id": "e5565a3c",
   "metadata": {
    "scrolled": true
   },
   "outputs": [],
   "source": [
    "# Get the \n",
    "from Bio import SeqIO\n",
    "# Get the fasta file downloaded from UniProt using the IDs (https://www.uniprot.org/id-mapping/)\n",
    "fastafile = './uniprot-download_true_format_fasta-2023.06.20-06.41.17.90.fasta'\n",
    "recs = list(SeqIO.parse(fastafile, 'fasta'))\n",
    "\n",
    "for r in recs:\n",
    "    # Make the id only the uniprot ID\n",
    "    r.id = r.id.split('|')[1]\n",
    "    # Get the start and end of the CD\n",
    "    s = df_hphob_filt.set_index('uniprot').loc[r.id]\n",
    "    # Get only the catalytic domain\n",
    "    r.seq = r.seq[int(s.cat_dom_start)-1:int(s.cat_dom_end)]\n",
    "\n",
    "cd_fasta = 'top_hphob_cd.fasta'\n",
    "with open(cd_fasta, 'w') as f:\n",
    "    print(f'Writing fasta file of catalytic domains: {cd_fasta}')\n",
    "    SeqIO.write(recs, f, 'fasta')"
   ]
  },
  {
   "cell_type": "markdown",
   "id": "97c4f2c5",
   "metadata": {},
   "source": [
    "### Cluster and select representatives\n",
    "Cluster using cd-hit (https://anaconda.org/bioconda/cd-hit, run in command line)\n",
    "```\n",
    "mkdir cd_hit\n",
    "cd cd_hit\n",
    "cd-hit -i ../top_hphob_cd.fasta -c 0.7 -o reduced_cdhit70.fa\n",
    "```\n"
   ]
  },
  {
   "cell_type": "code",
   "execution_count": null,
   "id": "bf85ca74",
   "metadata": {},
   "outputs": [],
   "source": [
    "with open('cd_hit/reduced_cdhit70.fa.clstr', 'r') as f:\n",
    "    clst_raw = f.read()"
   ]
  },
  {
   "cell_type": "code",
   "execution_count": null,
   "id": "3a2236e7",
   "metadata": {},
   "outputs": [],
   "source": [
    "clst = clst_raw.split('>Cluster')\n",
    "clst = [i.split('\\n') for i in clst if i != '']\n",
    "clst_dict = dict([(i[0], i[1:-1]) for i in clst])"
   ]
  },
  {
   "cell_type": "code",
   "execution_count": null,
   "id": "920d2ef1",
   "metadata": {},
   "outputs": [],
   "source": [
    "for k in clst_dict:\n",
    "    clst_dict[k] = [v.split('>')[1].split('.')[0] for v in clst_dict[k]]"
   ]
  },
  {
   "cell_type": "code",
   "execution_count": null,
   "id": "8b1c754d",
   "metadata": {},
   "outputs": [],
   "source": [
    "clst_inv_dict = {}\n",
    "for k, v in clst_dict.items():\n",
    "    for i in v:\n",
    "        clst_inv_dict[i] = int(k)"
   ]
  },
  {
   "cell_type": "code",
   "execution_count": null,
   "id": "408fd4b4",
   "metadata": {},
   "outputs": [],
   "source": [
    "df_hphob_filt['clust70'] = df_hphob_filt.uniprot.apply(lambda x: clst_inv_dict[x])"
   ]
  },
  {
   "cell_type": "code",
   "execution_count": null,
   "id": "1761acf7",
   "metadata": {},
   "outputs": [],
   "source": [
    "df_hphob_filt.set_index('uniprot', inplace=True)"
   ]
  },
  {
   "cell_type": "code",
   "execution_count": null,
   "id": "b08eda7e",
   "metadata": {},
   "outputs": [],
   "source": [
    "df_cazy_lpmos = pd.read_csv('./LPMO/CAZy_LPMOs_uniprot.csv')\n",
    "df_cazy_lpmos['uniprot'] = df_cazy_lpmos.uniprot.apply(lambda x: str(x).replace(' ', ''))\n",
    "df_cazy_lpmos.set_index('uniprot', inplace=True)"
   ]
  },
  {
   "cell_type": "code",
   "execution_count": null,
   "id": "35fd205f",
   "metadata": {},
   "outputs": [],
   "source": [
    "df_hphob_filt = (\n",
    "    df_hphob_filt\n",
    "    .join(df_cazy_lpmos, how='left')\n",
    "    .sort_values(by='clust70')\n",
    "    .sort_values(by='hphob_fraction', ascending=False)\n",
    ")"
   ]
  },
  {
   "cell_type": "code",
   "execution_count": null,
   "id": "3df77325",
   "metadata": {},
   "outputs": [],
   "source": [
    "df_hphob_filt.sort_values(by='clust70')"
   ]
  },
  {
   "cell_type": "code",
   "execution_count": null,
   "id": "ebd6dbde",
   "metadata": {},
   "outputs": [],
   "source": [
    "df_hphob_filt.reset_index().to_excel(f'results_hphob/{date.today()}-filtered_clust70_info.xlsx', index=False)"
   ]
  },
  {
   "cell_type": "code",
   "execution_count": null,
   "id": "34eca752",
   "metadata": {},
   "outputs": [],
   "source": [
    "# keep only one representative of each cluster (the one with highest hphob)\n",
    "df_top_per_clust = df_hphob_filt.drop_duplicates('clust70')"
   ]
  },
  {
   "cell_type": "markdown",
   "id": "fea06644",
   "metadata": {},
   "source": [
    "### Make a script to visualize in PyMol"
   ]
  },
  {
   "cell_type": "code",
   "execution_count": null,
   "id": "efdbad52",
   "metadata": {},
   "outputs": [],
   "source": [
    "# Function for each LPMO\n",
    "def ind_lpmo_script(s, script=f''):\n",
    "    # Import structure\n",
    "    if 'uniprot' in s:\n",
    "        upid = s.uniprot\n",
    "    else:\n",
    "        upid = s.name\n",
    "    script += f'\\n# Adding the structure {upid}\\n'\n",
    "    script += 'disable all\\n'\n",
    "    script += f'fetchAF2 {upid}, path=\"./fake/path/\"\\n'\n",
    "    # Change the color of the whole structure\n",
    "    script += f'color blue, {upid}\\n'\n",
    "\n",
    "    # Format catalytic domain\n",
    "    script += f'select {upid} and resi {s.cat_dom_start}-{s.cat_dom_end}\\n'\n",
    "    script += f'color orange, sele\\n'\n",
    "\n",
    "    # Format the surface residues\n",
    "    surflist = '+'.join(s.close_residues.split(','))\n",
    "    script += f'select {upid} and resi {surflist}\\n'\n",
    "    script += f'color green, sele\\n'\n",
    "    script += f'show sticks, sele\\n'\n",
    "    \n",
    "    # Format the N-His residues\n",
    "    script += f'select {upid} and resi {s.N_his}\\n'\n",
    "    script += f'color red, sele\\n'\n",
    "    script += f'show sticks, sele\\n'\n",
    "    \n",
    "    return script\n",
    "\n",
    "\n",
    "def make_script(df, session=f'Top{n}_LPMOs_{date.today()}.pse', scriptname=f'script_viz_top{n}_{date.today()}.pml'):\n",
    "    \n",
    "    # Write script header\n",
    "    script = '''\n",
    "# Visualize most hydrophobic LPMOS\n",
    "\n",
    "# When fetching, a fake path is used to avoid writing a file for each structure.\n",
    "'''\n",
    "\n",
    "    \n",
    "    for i in df.index:\n",
    "        script = ind_lpmo_script(df.loc[i], script)\n",
    "\n",
    "    # Add the last part of the script\n",
    "    script += f'''\n",
    "# Final formatting\n",
    "color atomic, not elem C\n",
    "bg_color grey90\n",
    "\n",
    "# Save PyMOL session\n",
    "save {session}\n",
    "\n",
    "## End of script\n",
    "'''\n",
    "\n",
    "    # write the script to a file\n",
    "    if not os.path.isdir('pymol'):\n",
    "        os.mkdir('pymol')\n",
    "    with open('pymol/'+scriptname, 'w') as f:\n",
    "        f.writelines(script)\n",
    "\n",
    "# Run the script generator for the top n LPMOs\n",
    "n = 15\n",
    "make_script(df_hphob_filt.head(n))"
   ]
  },
  {
   "cell_type": "code",
   "execution_count": null,
   "id": "10be0078",
   "metadata": {},
   "outputs": [],
   "source": [
    "print(ind_lpmo_script(df_hphob_filt.loc['A0A2T5P0S3']))"
   ]
  },
  {
   "cell_type": "code",
   "execution_count": null,
   "id": "893f8d10",
   "metadata": {},
   "outputs": [],
   "source": [
    "scriptname = f'top_per_clust_{date.today()}'\n",
    "make_script(df_top_per_clust, session=scriptname+'.pse', scriptname=scriptname+'.pml')"
   ]
  }
 ],
 "metadata": {
  "kernelspec": {
   "display_name": "grl39",
   "language": "python",
   "name": "python3"
  },
  "language_info": {
   "codemirror_mode": {
    "name": "ipython",
    "version": 3
   },
   "file_extension": ".py",
   "mimetype": "text/x-python",
   "name": "python",
   "nbconvert_exporter": "python",
   "pygments_lexer": "ipython3",
   "version": "3.9.16"
  }
 },
 "nbformat": 4,
 "nbformat_minor": 5
}

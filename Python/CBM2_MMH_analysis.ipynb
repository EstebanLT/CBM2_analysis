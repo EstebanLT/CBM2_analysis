{
 "cells": [
  {
   "cell_type": "code",
   "execution_count": 56,
   "id": "4ca2c2ad",
   "metadata": {},
   "outputs": [],
   "source": [
    "# Import necessary libraries\n",
    "from Bio import SeqIO\n",
    "import pandas as pd\n",
    "import sys\n",
    "if \"helpers\" in sys.modules:\n",
    "    del sys.modules[\"helpers\"]\n",
    "import helpers\n",
    "import os\n",
    "import re"
   ]
  },
  {
   "cell_type": "code",
   "execution_count": 2,
   "id": "05aef1fe",
   "metadata": {},
   "outputs": [
    {
     "name": "stdout",
     "output_type": "stream",
     "text": [
      "================================================================\n",
      "Program: CD-HIT, V4.8.1, Aug 07 2022, 07:05:53\n",
      "Command: cd-hit -i ../Data/00-raw/2025-04-14_IPR001919.fasta\n",
      "         -o ./Test.fasta -c 1\n",
      "\n",
      "Started: Sat May 17 23:21:57 2025\n",
      "================================================================\n",
      "                            Output                              \n",
      "----------------------------------------------------------------\n",
      "total seq: 26436\n",
      "longest and shortest : 8505 and 33\n",
      "Total letters: 14520842\n",
      "Sequences have been sorted\n",
      "\n",
      "Approximated minimal memory consumption:\n",
      "Sequence        : 18M\n",
      "Buffer          : 1 X 18M = 18M\n",
      "Table           : 1 X 65M = 65M\n",
      "Miscellaneous   : 0M\n",
      "Total           : 102M\n",
      "\n",
      "Table limit with the given memory limit:\n",
      "Max number of representatives: 1007492\n",
      "Max number of word counting entries: 87211732\n",
      "\n",
      "comparing sequences from          0  to      26436\n",
      "..........    10000  finished       9578  clusters\n",
      "..........    20000  finished      19315  clusters\n",
      "......\n",
      "    26436  finished      25466  clusters\n",
      "\n",
      "Approximated maximum memory consumption: 211M\n",
      "writing new database\n",
      "writing clustering information\n",
      "program completed !\n",
      "\n",
      "Total CPU time 6.37\n"
     ]
    },
    {
     "data": {
      "text/plain": [
       "0"
      ]
     },
     "execution_count": 2,
     "metadata": {},
     "output_type": "execute_result"
    }
   ],
   "source": [
    "# Eliminate duplicates from a FASTA file using CD-HIT\n",
    "# os.system(\"cd-hit -i ../Data/00-raw/2025-04-14_IPR001919.fasta -o ../Data/01-unique/IPR001919_unique.fa -c 1\")"
   ]
  },
  {
   "cell_type": "markdown",
   "id": "43806214",
   "metadata": {},
   "source": [
    "## Read InterPro data"
   ]
  },
  {
   "cell_type": "code",
   "execution_count": 16,
   "id": "e0731e80",
   "metadata": {},
   "outputs": [
    {
     "name": "stdout",
     "output_type": "stream",
     "text": [
      "Number of records in ../Data/00-raw/2025-04-14_IPR001919.fasta: 26436\n",
      "Number of records in ../Data/00-raw/2025-04-14_IPR001919.tsv: 26436\n"
     ]
    }
   ],
   "source": [
    "# Read the InterPro fasta file\n",
    "ipfastafile = '../Data/00-raw/2025-04-14_IPR001919.fasta'\n",
    "ip_recs = list(SeqIO.parse(ipfastafile, \"fasta\"))\n",
    "print(f\"Number of records in {ipfastafile}: {len(ip_recs)}\")\n",
    "# Read the InterPro tsv file\n",
    "iptsvfile = '../Data/00-raw/2025-04-14_IPR001919.tsv'\n",
    "ip_df = pd.read_csv(iptsvfile, sep=\"\\t\", header=0)\n",
    "print(f\"Number of records in {iptsvfile}: {len(ip_df)}\")\n"
   ]
  },
  {
   "cell_type": "code",
   "execution_count": 17,
   "id": "3929a954",
   "metadata": {},
   "outputs": [],
   "source": [
    "# Make a new column with the range of CBM2 in a different format\n",
    "ip_df['CBM2'] = ip_df.Matches.apply(lambda x: \"+\".join(x.replace(\"..\", \"-\").split(\",\")))\n",
    "# Rename the 'Accession' column to 'uniprot'\n",
    "ip_df = ip_df.rename(columns={'Accession': 'uniprot'})\n",
    "# Save file for use in structure analysis\n",
    "ip_df.to_csv(\"../Data/06-structure_analysis/CBM2_interpro_ranges.tsv\", sep=\"\\t\", index=False)"
   ]
  },
  {
   "cell_type": "markdown",
   "id": "6043b892",
   "metadata": {},
   "source": [
    "## Extract CBM2 sequences"
   ]
  },
  {
   "cell_type": "markdown",
   "id": "c11bd698",
   "metadata": {},
   "source": [
    "## MMH motif\n",
    "### Find in sequence"
   ]
  },
  {
   "cell_type": "code",
   "execution_count": 4,
   "id": "cdf6e9da",
   "metadata": {},
   "outputs": [
    {
     "name": "stdout",
     "output_type": "stream",
     "text": [
      "number of sequences read: 26310\n"
     ]
    }
   ],
   "source": [
    "# Read the full sequences from the InterPro dataset ()\n",
    "recs = list(SeqIO.parse(\"../02-extract/extracted_CBM2_mg.fa\", \"fasta\"))\n",
    "print(f\"number of sequences read: {len(recs)}\")"
   ]
  },
  {
   "cell_type": "code",
   "execution_count": null,
   "id": "2035c190",
   "metadata": {},
   "outputs": [
    {
     "name": "stdout",
     "output_type": "stream",
     "text": [
      "number of sequences with the motif: 713\n",
      "sequences with the motif written to: CBM2_MMH.fa\n"
     ]
    }
   ],
   "source": [
    "# Define the motif MXnMXH pattern using regular expressions\n",
    "motif_pattern = re.compile(\"M.*M.H\")\n",
    "\n",
    "# Iterate over the sequences and search for the motif\n",
    "matches = []\n",
    "\n",
    "for seq_record in recs:\n",
    "    sequence = str(seq_record.seq)\n",
    "    if motif_pattern.search(sequence):\n",
    "        matches.append(seq_record)\n",
    "\n",
    "# Write the sequences with the motif to a new file\n",
    "SeqIO.write(matches, \"../Data/03-find_motifs/CBM2_MMH.fa\", \"fasta\")\n",
    "print(f\"number of sequences with the motif: {len(matches)}\")\n",
    "print(f\"sequences with the motif written to: ../Data/03-find_motifs/CBM2_MMH.fa\")\n"
   ]
  },
  {
   "cell_type": "code",
   "execution_count": 12,
   "id": "5cb0ef3e",
   "metadata": {},
   "outputs": [
    {
     "name": "stdout",
     "output_type": "stream",
     "text": [
      "713 out of 713 ids are unique\n",
      "uniprot ids written to: uniprot_ids.txt\n"
     ]
    }
   ],
   "source": [
    "# extract the uniprot id from the sequence ID\n",
    "uniprot_ids = [seq_record.id.split(\"|\")[0] for seq_record in matches]\n",
    "# Check if the ids are unique\n",
    "print(f'{len(set(uniprot_ids))} out of {len(uniprot_ids)} ids are unique')\n",
    "# write the uniprot ids to a file\n",
    "# with open(\"uniprot_ids.txt\", \"w\") as f:\n",
    "#     f.write(\"\\n\".join(uniprot_ids))\n",
    "print(f\"uniprot ids written to: uniprot_ids.txt\")"
   ]
  },
  {
   "cell_type": "code",
   "execution_count": 198,
   "id": "2f2b2635",
   "metadata": {},
   "outputs": [
    {
     "name": "stdout",
     "output_type": "stream",
     "text": [
      "number of sequences read: 26436\n",
      "number of sequences with the motif: 713\n"
     ]
    }
   ],
   "source": [
    "# Read the full sequences from the original dataset\n",
    "recs_full = list(SeqIO.parse(\"../Data/00-raw/2025-04-14_IPR001919.fasta\", \"fasta\"))\n",
    "print(f\"number of sequences read: {len(recs_full)}\")\n",
    "# retrieve only the sequences with the motif\n",
    "matches_full = []\n",
    "for seq_record in recs_full:\n",
    "    if seq_record.id.split(\"|\")[0] in uniprot_ids:\n",
    "        matches_full.append(seq_record)\n",
    "print(f\"number of sequences with the motif: {len(matches_full)}\")\n",
    "# Write the sequences with the motif to a new file\n",
    "# SeqIO.write(matches_full, \"fullseqs_MMH.fa\", \"fasta\")\n"
   ]
  },
  {
   "cell_type": "code",
   "execution_count": 42,
   "id": "31e96f35",
   "metadata": {},
   "outputs": [],
   "source": [
    "# Write the sequences in sets of 100 for search in InterPro\n",
    "# split the sequences into sets of 100\n",
    "if not os.path.exists(\"fullseqs_chunks\"):\n",
    "    os.makedirs(\"fullseqs_chunks\")\n",
    "def chunks(lst, n):\n",
    "    \"\"\"Yield successive n-sized chunks from lst.\"\"\"\n",
    "    for i in range(0, len(lst), n):\n",
    "        yield lst[i:i + n]\n",
    "# write the sequences in sets of 100\n",
    "for i, chunk in enumerate(chunks(matches_full, 100)):\n",
    "    with open(f\"fullseqs_chunks/fullseqs_MMH_{i}.fa\", \"w\") as f:\n",
    "        SeqIO.write(chunk, f, \"fasta\")"
   ]
  },
  {
   "cell_type": "markdown",
   "id": "b10a39db",
   "metadata": {},
   "source": [
    "### Confirm MMH in structures"
   ]
  },
  {
   "cell_type": "code",
   "execution_count": 168,
   "id": "87ba1f60",
   "metadata": {},
   "outputs": [],
   "source": [
    "# Read the uniprot ids from the MMH-containing sequences\n",
    "with open(\"../Data/03-find_motifs/uniprot_ids.txt\", \"r\") as f:\n",
    "    uniprot_ids = f.read().splitlines()\n",
    "# Read the interpro \n",
    "ip_df = pd.read_csv(\"../Data/06-structure_analysis/CBM2_interpro_ranges.tsv\", sep=\"\\t\", index_col=0)"
   ]
  },
  {
   "cell_type": "code",
   "execution_count": 169,
   "id": "05053758",
   "metadata": {},
   "outputs": [],
   "source": [
    "# Make a function for checking if there is an MMH motif in the structure\n",
    "def check_mmh(structure, cbm2_ranges, thres=8.5):\n",
    "    # Keep only the CA atoms and set the index to the residue number\n",
    "    structure = structure[structure.atom_name == \"CA\"].set_index('residue')\n",
    "    for cbm2_range in cbm2_ranges:\n",
    "        # Get the start and end positions of the range\n",
    "        start, end = map(int, cbm2_range.split(\"-\"))\n",
    "        # Get the cbm2 structure\n",
    "        cbm2_structure = structure.loc[start:end]\n",
    "        # Get the coordinates of the alpha carbons of Met and His\n",
    "        met_his_coords = cbm2_structure[cbm2_structure.amino_acid.isin(['MET', 'HIS'])]\n",
    "        # Get distance matrix\n",
    "        distance_matrix = helpers.get_distance_matrix(met_his_coords)\n",
    "        # Check if there is a His with a Met in the position i-2 and another Met within 8 Å\n",
    "        for his in met_his_coords[met_his_coords.amino_acid == 'HIS'].itertuples():\n",
    "            his_index = his.Index\n",
    "            # Check if the residue i-2 is a Met\n",
    "            if his_index-2 <= start:\n",
    "                continue\n",
    "            if not cbm2_structure.loc[his_index-2].amino_acid == 'MET':\n",
    "                continue\n",
    "            # Check if there are at least two Met within the distance threshold\n",
    "            mask = distance_matrix[his_index].between(1,thres)\n",
    "            mm_distances = distance_matrix.loc[mask,mask]\n",
    "            if not mm_distances.shape[0] >= 2:\n",
    "                continue\n",
    "            # Check if at least two of these Met residues are also within the distance threshold\n",
    "            if ((mm_distances > 1) & (mm_distances < thres)).any().any():\n",
    "                return True\n",
    "        return False\n"
   ]
  },
  {
   "cell_type": "code",
   "execution_count": 172,
   "id": "65535656",
   "metadata": {},
   "outputs": [
    {
     "name": "stderr",
     "output_type": "stream",
     "text": [
      "/Users/estebanlopeztavera/anaconda3/envs/grl39-64/lib/python3.9/site-packages/Bio/PDB/PDBParser.py:395: PDBConstructionWarning: Ignoring unrecognized record 'END' at line 12058\n",
      "  warnings.warn(\n"
     ]
    }
   ],
   "source": [
    "pdb_dir = \"../Data/05-structures/\"\n",
    "pdbs = [f for f in os.listdir(pdb_dir) if f.endswith(\".pdb\")]\n",
    "thres = 8  # max distance in Ångstrøms between M-M-H\n",
    "mmh_results = pd.DataFrame(columns=['structure_mmh'])\n",
    "pdb_not_found = []\n",
    "for accession in uniprot_ids:\n",
    "    try:\n",
    "        pdb = [p for p in pdbs if accession in p][0]\n",
    "    except IndexError:\n",
    "        pdb_not_found.append(accession)\n",
    "        continue\n",
    "    pdb_file = os.path.join(\"../Data/05-structures/\", pdb)\n",
    "    structure = helpers.read_pdb(pdb_file)\n",
    "    cbm2_ranges = ip_df.loc[accession, 'CBM2'].split(\"+\")\n",
    "    try:\n",
    "        mmh_results.loc[accession] = check_mmh(structure, cbm2_ranges)\n",
    "    except Exception as e:\n",
    "        print(f'acession {accession}, Ex {e}')"
   ]
  },
  {
   "cell_type": "code",
   "execution_count": 177,
   "id": "60434ee6",
   "metadata": {},
   "outputs": [
    {
     "name": "stdout",
     "output_type": "stream",
     "text": [
      "number of structures not found: 63\n",
      "structure_mmh\n",
      "True             622\n",
      "False             28\n",
      "Name: count, dtype: int64\n"
     ]
    }
   ],
   "source": [
    "print(f\"number of structures not found: {len(pdb_not_found)}\")\n",
    "# from the pdbs that were analyzed, check the results\n",
    "print(mmh_results.value_counts())"
   ]
  },
  {
   "cell_type": "code",
   "execution_count": 182,
   "id": "cfca90d4",
   "metadata": {},
   "outputs": [],
   "source": [
    "# Get list of the sequences with the MMH motif not meeting the structure criteria (considered false positives)\n",
    "no_mmh_struc = mmh_results[~mmh_results.structure_mmh].index.to_list()\n",
    "# Get the sequences with the MMH motif meeting the structure criteria (true MMH), and include the ones missing structure files\n",
    "mmh_struc = mmh_results[mmh_results.structure_mmh].index.to_list() + pdb_not_found\n",
    "# Save the list to a file\n",
    "with open(\"../Data/03-find_motifs/MMH_struc_validated_ids.txt\", \"w\") as f:\n",
    "    f.write(\"\\n\".join(mmh_struc))"
   ]
  },
  {
   "cell_type": "markdown",
   "id": "3dc3ca7f",
   "metadata": {},
   "source": [
    "## Annotated domains in DBCAN\n",
    "The 713 sequences matching the MMH pattern were annotated using the dbCAN3 server (https://bcb.unl.edu/dbCAN2/blastation.php?jobid=2025042433759)"
   ]
  },
  {
   "cell_type": "code",
   "execution_count": null,
   "id": "1e6596ec",
   "metadata": {},
   "outputs": [
    {
     "name": "stdout",
     "output_type": "stream",
     "text": [
      "709\n"
     ]
    }
   ],
   "source": [
    "# Read table\n",
    "import pandas as pd \n",
    "dbcan_df = pd.read_csv(\"../Data/04-DBcan/MMH_dbcan.tsv\", sep=\"\\t\")\n",
    "print(dbcan_df.shape[0])\n",
    "# Add uniprot column\n",
    "dbcan_df['uniprot'] = dbcan_df['Gene ID'].apply(lambda x: x.split(\"|\")[0])"
   ]
  },
  {
   "cell_type": "code",
   "execution_count": null,
   "id": "135016c8",
   "metadata": {},
   "outputs": [
    {
     "name": "stdout",
     "output_type": "stream",
     "text": [
      "number of sequences in the DBcan table: 709\n",
      "number of sequences not in the DBcan table: 4\n",
      "['A0A1G4SCK8', 'A0A1H2UGA1', 'A0A8G1MZR7', 'A0A919R3Z2']\n"
     ]
    }
   ],
   "source": [
    "# Check which sequences are not in the DBcan table\n",
    "dbcan_ids = dbcan_df[\"uniprot\"].to_list()\n",
    "print(f\"number of sequences in the DBcan table: {len(dbcan_ids)}\")\n",
    "\n",
    "ids_not_in_dbcan = [i for i in uniprot_ids if i not in dbcan_ids]\n",
    "print(f\"number of sequences not in the DBcan table: {len(ids_not_in_dbcan)}\")\n",
    "print(ids_not_in_dbcan)"
   ]
  },
  {
   "cell_type": "code",
   "execution_count": 218,
   "id": "64be25c4",
   "metadata": {},
   "outputs": [
    {
     "data": {
      "text/plain": [
       "['A0A1G4SCK8', 'A0A1H2UGA1', 'A0A8G1MZR7']"
      ]
     },
     "execution_count": 218,
     "metadata": {},
     "output_type": "execute_result"
    }
   ],
   "source": [
    "[i for i in ids_not_in_dbcan if i in no_mmh_struc]"
   ]
  },
  {
   "cell_type": "code",
   "execution_count": 179,
   "id": "6e33f8ed",
   "metadata": {},
   "outputs": [
    {
     "name": "stdout",
     "output_type": "stream",
     "text": [
      "Domains\n",
      "AA10+CBM2              648\n",
      "CBM2                    35\n",
      "GH9                      7\n",
      "N                        5\n",
      "AA10                     4\n",
      "GH10+CBM2                2\n",
      "CBM2+CBM2                2\n",
      "GH5_8+CBM2               1\n",
      "AA10+CBM2+CBM2+GH18      1\n",
      "GH5_1+CBM2               1\n",
      "CBM2+GH5_2+CBM13         1\n",
      "GH5_40                   1\n",
      "CBM2+GH5_1               1\n",
      "Name: count, dtype: int64\n"
     ]
    }
   ],
   "source": [
    "# Check the domains present\n",
    "dbcan_df['Domains'] = dbcan_df.HMMER.apply(lambda x: re.sub(r\"\\(.*?\\)\", \"\", x))\n",
    "print(dbcan_df.Domains.value_counts())"
   ]
  },
  {
   "cell_type": "code",
   "execution_count": null,
   "id": "2f9c65bd",
   "metadata": {},
   "outputs": [
    {
     "data": {
      "text/html": [
       "<div>\n",
       "<style scoped>\n",
       "    .dataframe tbody tr th:only-of-type {\n",
       "        vertical-align: middle;\n",
       "    }\n",
       "\n",
       "    .dataframe tbody tr th {\n",
       "        vertical-align: top;\n",
       "    }\n",
       "\n",
       "    .dataframe thead th {\n",
       "        text-align: right;\n",
       "    }\n",
       "</style>\n",
       "<table border=\"1\" class=\"dataframe\">\n",
       "  <thead>\n",
       "    <tr style=\"text-align: right;\">\n",
       "      <th></th>\n",
       "      <th>Gene ID</th>\n",
       "      <th>EC#</th>\n",
       "      <th>HMMER</th>\n",
       "      <th>dbCAN_sub</th>\n",
       "      <th>DIAMOND</th>\n",
       "      <th>Signalp</th>\n",
       "      <th>#ofTools</th>\n",
       "      <th>CBM2</th>\n",
       "      <th>AA10</th>\n",
       "      <th>uniprot</th>\n",
       "    </tr>\n",
       "  </thead>\n",
       "  <tbody>\n",
       "    <tr>\n",
       "      <th>65</th>\n",
       "      <td>A0A177HRM1|unreviewed|CBM2</td>\n",
       "      <td>1.14.99.54|1.14.99.53</td>\n",
       "      <td>CBM2(1-72)</td>\n",
       "      <td>CBM2_e70</td>\n",
       "      <td>N</td>\n",
       "      <td>N</td>\n",
       "      <td>2</td>\n",
       "      <td>1-72</td>\n",
       "      <td></td>\n",
       "      <td>A0A177HRM1</td>\n",
       "    </tr>\n",
       "    <tr>\n",
       "      <th>155</th>\n",
       "      <td>A0A1Z9B5K6|unreviewed|CBM2</td>\n",
       "      <td>-</td>\n",
       "      <td>AA10(38-218)</td>\n",
       "      <td>AA10_e0</td>\n",
       "      <td>N</td>\n",
       "      <td>Y(1-38)</td>\n",
       "      <td>2</td>\n",
       "      <td></td>\n",
       "      <td>38-218</td>\n",
       "      <td>A0A1Z9B5K6</td>\n",
       "    </tr>\n",
       "    <tr>\n",
       "      <th>186</th>\n",
       "      <td>A0A2P8I1Y2|unreviewed|Endoglucanase|taxID:1280637</td>\n",
       "      <td>3.2.1.78|-</td>\n",
       "      <td>GH5_8(39-293)+CBM2(438-538)</td>\n",
       "      <td>GH5_e22+CBM2_e31</td>\n",
       "      <td>CBM2+GH5_8</td>\n",
       "      <td>Y(1-29)</td>\n",
       "      <td>3</td>\n",
       "      <td>438-538</td>\n",
       "      <td></td>\n",
       "      <td>A0A2P8I1Y2</td>\n",
       "    </tr>\n",
       "    <tr>\n",
       "      <th>224</th>\n",
       "      <td>A0A345T3H0|unreviewed|CBM2</td>\n",
       "      <td>1.14.99.54|1.14.99.53</td>\n",
       "      <td>AA10(35-219)+CBM2(258-351)</td>\n",
       "      <td>AA10_e30+CBM2_e70</td>\n",
       "      <td>AA10+CBM2</td>\n",
       "      <td>Y(1-35)</td>\n",
       "      <td>3</td>\n",
       "      <td>258-351</td>\n",
       "      <td>35-219</td>\n",
       "      <td>A0A345T3H0</td>\n",
       "    </tr>\n",
       "    <tr>\n",
       "      <th>234</th>\n",
       "      <td>A0A3D0QQI1|unreviewed|Beta-xylanase|taxID:1931</td>\n",
       "      <td>3.2.1.8</td>\n",
       "      <td>GH10(50-344)+CBM2(367-458)</td>\n",
       "      <td>GH10_e90+CBM2_e115</td>\n",
       "      <td>CBM2+GH10</td>\n",
       "      <td>Y(1-45)</td>\n",
       "      <td>3</td>\n",
       "      <td>367-458</td>\n",
       "      <td></td>\n",
       "      <td>A0A3D0QQI1</td>\n",
       "    </tr>\n",
       "    <tr>\n",
       "      <th>316</th>\n",
       "      <td>A0A5B9YDT5|unreviewed|CBM2</td>\n",
       "      <td>-</td>\n",
       "      <td>CBM2(123-206)+CBM2(229-323)</td>\n",
       "      <td>CBM2_e59+CBM2_e59</td>\n",
       "      <td>CBM2</td>\n",
       "      <td>N</td>\n",
       "      <td>3</td>\n",
       "      <td>123-206+229-323</td>\n",
       "      <td></td>\n",
       "      <td>A0A5B9YDT5</td>\n",
       "    </tr>\n",
       "    <tr>\n",
       "      <th>444</th>\n",
       "      <td>A0A7Z0Q2K9|unreviewed|CBM2</td>\n",
       "      <td>-</td>\n",
       "      <td>CBM2(420-519)</td>\n",
       "      <td>CBM2_e62</td>\n",
       "      <td>CBM2</td>\n",
       "      <td>Y(1-33)</td>\n",
       "      <td>3</td>\n",
       "      <td>420-519</td>\n",
       "      <td></td>\n",
       "      <td>A0A7Z0Q2K9</td>\n",
       "    </tr>\n",
       "    <tr>\n",
       "      <th>511</th>\n",
       "      <td>A0A964Q5W4|unreviewed|CBM2</td>\n",
       "      <td>-</td>\n",
       "      <td>CBM2(38-131)+CBM2(159-253)</td>\n",
       "      <td>CBM2_e56+CBM2_e56+GH18_e337</td>\n",
       "      <td>CBM2+GH18</td>\n",
       "      <td>N</td>\n",
       "      <td>3</td>\n",
       "      <td>38-131+159-253</td>\n",
       "      <td></td>\n",
       "      <td>A0A964Q5W4</td>\n",
       "    </tr>\n",
       "    <tr>\n",
       "      <th>519</th>\n",
       "      <td>A0A9E5S1C5|unreviewed|Endoglucanase|taxID:2720413</td>\n",
       "      <td>3.2.1.4|-</td>\n",
       "      <td>GH5_1(62-379)+CBM2(455-550)</td>\n",
       "      <td>GH5_e271+CBM2_e52</td>\n",
       "      <td>CBM2+GH5_1</td>\n",
       "      <td>N</td>\n",
       "      <td>3</td>\n",
       "      <td>455-550</td>\n",
       "      <td></td>\n",
       "      <td>A0A9E5S1C5</td>\n",
       "    </tr>\n",
       "    <tr>\n",
       "      <th>538</th>\n",
       "      <td>A0AA90R2S6|unreviewed|cellulase|taxID:3057165</td>\n",
       "      <td>3.2.1.4|3.2.1.78|3.2.1.145|3.2.1.132|-</td>\n",
       "      <td>CBM2(97-186)+GH5_2(225-462)+CBM13(518-654)</td>\n",
       "      <td>CBM2_e56+GH5_e251+CBM13_e360</td>\n",
       "      <td>N</td>\n",
       "      <td>N</td>\n",
       "      <td>2</td>\n",
       "      <td>97-186</td>\n",
       "      <td></td>\n",
       "      <td>A0AA90R2S6</td>\n",
       "    </tr>\n",
       "    <tr>\n",
       "      <th>624</th>\n",
       "      <td>A0AAU5DQH4|unreviewed|Beta-xylanase|taxID:2903638</td>\n",
       "      <td>3.2.1.8</td>\n",
       "      <td>GH10(41-333)+CBM2(348-440)</td>\n",
       "      <td>GH10_e90+CBM2_e115</td>\n",
       "      <td>CBM2+GH10</td>\n",
       "      <td>Y(1-34)</td>\n",
       "      <td>3</td>\n",
       "      <td>348-440</td>\n",
       "      <td></td>\n",
       "      <td>A0AAU5DQH4</td>\n",
       "    </tr>\n",
       "    <tr>\n",
       "      <th>651</th>\n",
       "      <td>A0AB37PM01|unreviewed|Uncharacterized</td>\n",
       "      <td>1.14.99.54|1.14.99.53|-</td>\n",
       "      <td>AA10(12-195)+CBM2(213-298)</td>\n",
       "      <td>AA10_e30+CBM2_e10</td>\n",
       "      <td>AA10+CBM2</td>\n",
       "      <td>N</td>\n",
       "      <td>3</td>\n",
       "      <td>213-298</td>\n",
       "      <td>12-195</td>\n",
       "      <td>A0AB37PM01</td>\n",
       "    </tr>\n",
       "    <tr>\n",
       "      <th>661</th>\n",
       "      <td>A0SGJ6|unreviewed|Endoglucanase|taxID:1245466</td>\n",
       "      <td>3.2.1.4</td>\n",
       "      <td>GH9(277-696)</td>\n",
       "      <td>CBM2_e3+GH9_e27</td>\n",
       "      <td>CBM2+GH9</td>\n",
       "      <td>N</td>\n",
       "      <td>3</td>\n",
       "      <td></td>\n",
       "      <td></td>\n",
       "      <td>A0SGJ6</td>\n",
       "    </tr>\n",
       "    <tr>\n",
       "      <th>662</th>\n",
       "      <td>A0SGJ7|unreviewed|Endoglucanase|taxID:1245466</td>\n",
       "      <td>3.2.1.4</td>\n",
       "      <td>GH9(277-696)</td>\n",
       "      <td>CBM2_e3+GH9_e27</td>\n",
       "      <td>CBM2+GH9</td>\n",
       "      <td>N</td>\n",
       "      <td>3</td>\n",
       "      <td></td>\n",
       "      <td></td>\n",
       "      <td>A0SGJ7</td>\n",
       "    </tr>\n",
       "    <tr>\n",
       "      <th>663</th>\n",
       "      <td>A0SGJ8|unreviewed|Endoglucanase|taxID:1245466</td>\n",
       "      <td>3.2.1.4</td>\n",
       "      <td>GH9(277-696)</td>\n",
       "      <td>CBM2_e3+GH9_e27</td>\n",
       "      <td>CBM2+GH9</td>\n",
       "      <td>N</td>\n",
       "      <td>3</td>\n",
       "      <td></td>\n",
       "      <td></td>\n",
       "      <td>A0SGJ8</td>\n",
       "    </tr>\n",
       "    <tr>\n",
       "      <th>664</th>\n",
       "      <td>A0SGJ9|unreviewed|Endoglucanase|taxID:1245466</td>\n",
       "      <td>3.2.1.4</td>\n",
       "      <td>GH9(276-695)</td>\n",
       "      <td>CBM2_e3+GH9_e27</td>\n",
       "      <td>CBM2+GH9</td>\n",
       "      <td>Y(1-26)</td>\n",
       "      <td>3</td>\n",
       "      <td></td>\n",
       "      <td></td>\n",
       "      <td>A0SGJ9</td>\n",
       "    </tr>\n",
       "    <tr>\n",
       "      <th>665</th>\n",
       "      <td>A0SGK0|unreviewed|Endoglucanase|taxID:1245466</td>\n",
       "      <td>3.2.1.4</td>\n",
       "      <td>GH9(276-695)</td>\n",
       "      <td>CBM2_e3+GH9_e27</td>\n",
       "      <td>CBM2+GH9</td>\n",
       "      <td>Y(1-26)</td>\n",
       "      <td>3</td>\n",
       "      <td></td>\n",
       "      <td></td>\n",
       "      <td>A0SGK0</td>\n",
       "    </tr>\n",
       "    <tr>\n",
       "      <th>666</th>\n",
       "      <td>A0SGK1|unreviewed|Endoglucanase|taxID:1245466</td>\n",
       "      <td>3.2.1.4</td>\n",
       "      <td>GH9(276-695)</td>\n",
       "      <td>CBM2_e3+GH9_e27</td>\n",
       "      <td>CBM2+GH9</td>\n",
       "      <td>Y(1-26)</td>\n",
       "      <td>3</td>\n",
       "      <td></td>\n",
       "      <td></td>\n",
       "      <td>A0SGK1</td>\n",
       "    </tr>\n",
       "    <tr>\n",
       "      <th>667</th>\n",
       "      <td>A0SGK2|unreviewed|Endoglucanase|taxID:1245466</td>\n",
       "      <td>3.2.1.4</td>\n",
       "      <td>GH9(276-695)</td>\n",
       "      <td>CBM2_e3+GH9_e27</td>\n",
       "      <td>CBM2+GH9</td>\n",
       "      <td>Y(1-26)</td>\n",
       "      <td>3</td>\n",
       "      <td></td>\n",
       "      <td></td>\n",
       "      <td>A0SGK2</td>\n",
       "    </tr>\n",
       "    <tr>\n",
       "      <th>703</th>\n",
       "      <td>W9H1S5|unreviewed|cellulase|taxID:1385369</td>\n",
       "      <td>3.2.1.4</td>\n",
       "      <td>CBM2(6-86)+GH5_1(235-563)</td>\n",
       "      <td>CBM2_e52+GH5_e161</td>\n",
       "      <td>CBM2+GH5_1</td>\n",
       "      <td>N</td>\n",
       "      <td>3</td>\n",
       "      <td>6-86</td>\n",
       "      <td></td>\n",
       "      <td>W9H1S5</td>\n",
       "    </tr>\n",
       "    <tr>\n",
       "      <th>704</th>\n",
       "      <td>A0A0C2ZMV9|unreviewed|CBM2</td>\n",
       "      <td>3.2.1.4|-</td>\n",
       "      <td>N</td>\n",
       "      <td>CBM2_e27+CBM2_e21</td>\n",
       "      <td>N</td>\n",
       "      <td>Y(1-24)</td>\n",
       "      <td>1</td>\n",
       "      <td></td>\n",
       "      <td></td>\n",
       "      <td>A0A0C2ZMV9</td>\n",
       "    </tr>\n",
       "    <tr>\n",
       "      <th>705</th>\n",
       "      <td>A0A1N6S457|unreviewed|CBM2</td>\n",
       "      <td>-</td>\n",
       "      <td>N</td>\n",
       "      <td>CBM2_e113</td>\n",
       "      <td>N</td>\n",
       "      <td>N</td>\n",
       "      <td>1</td>\n",
       "      <td></td>\n",
       "      <td></td>\n",
       "      <td>A0A1N6S457</td>\n",
       "    </tr>\n",
       "    <tr>\n",
       "      <th>706</th>\n",
       "      <td>A0A238X701|unreviewed|non-specific</td>\n",
       "      <td>-</td>\n",
       "      <td>N</td>\n",
       "      <td>CBM2_e7</td>\n",
       "      <td>CBM2</td>\n",
       "      <td>N</td>\n",
       "      <td>2</td>\n",
       "      <td></td>\n",
       "      <td></td>\n",
       "      <td>A0A238X701</td>\n",
       "    </tr>\n",
       "    <tr>\n",
       "      <th>707</th>\n",
       "      <td>A0A5D0T6V0|unreviewed|CBM2</td>\n",
       "      <td>-</td>\n",
       "      <td>N</td>\n",
       "      <td>CBM2_e113</td>\n",
       "      <td>N</td>\n",
       "      <td>N</td>\n",
       "      <td>1</td>\n",
       "      <td></td>\n",
       "      <td></td>\n",
       "      <td>A0A5D0T6V0</td>\n",
       "    </tr>\n",
       "    <tr>\n",
       "      <th>708</th>\n",
       "      <td>C3UVM5|unreviewed|CBM2</td>\n",
       "      <td>3.2.1.4</td>\n",
       "      <td>N</td>\n",
       "      <td>CBM2_e3</td>\n",
       "      <td>CBM2</td>\n",
       "      <td>N</td>\n",
       "      <td>2</td>\n",
       "      <td></td>\n",
       "      <td></td>\n",
       "      <td>C3UVM5</td>\n",
       "    </tr>\n",
       "  </tbody>\n",
       "</table>\n",
       "</div>"
      ],
      "text/plain": [
       "                                               Gene ID  \\\n",
       "65                          A0A177HRM1|unreviewed|CBM2   \n",
       "155                         A0A1Z9B5K6|unreviewed|CBM2   \n",
       "186  A0A2P8I1Y2|unreviewed|Endoglucanase|taxID:1280637   \n",
       "224                         A0A345T3H0|unreviewed|CBM2   \n",
       "234     A0A3D0QQI1|unreviewed|Beta-xylanase|taxID:1931   \n",
       "316                         A0A5B9YDT5|unreviewed|CBM2   \n",
       "444                         A0A7Z0Q2K9|unreviewed|CBM2   \n",
       "511                         A0A964Q5W4|unreviewed|CBM2   \n",
       "519  A0A9E5S1C5|unreviewed|Endoglucanase|taxID:2720413   \n",
       "538      A0AA90R2S6|unreviewed|cellulase|taxID:3057165   \n",
       "624  A0AAU5DQH4|unreviewed|Beta-xylanase|taxID:2903638   \n",
       "651              A0AB37PM01|unreviewed|Uncharacterized   \n",
       "661      A0SGJ6|unreviewed|Endoglucanase|taxID:1245466   \n",
       "662      A0SGJ7|unreviewed|Endoglucanase|taxID:1245466   \n",
       "663      A0SGJ8|unreviewed|Endoglucanase|taxID:1245466   \n",
       "664      A0SGJ9|unreviewed|Endoglucanase|taxID:1245466   \n",
       "665      A0SGK0|unreviewed|Endoglucanase|taxID:1245466   \n",
       "666      A0SGK1|unreviewed|Endoglucanase|taxID:1245466   \n",
       "667      A0SGK2|unreviewed|Endoglucanase|taxID:1245466   \n",
       "703          W9H1S5|unreviewed|cellulase|taxID:1385369   \n",
       "704                         A0A0C2ZMV9|unreviewed|CBM2   \n",
       "705                         A0A1N6S457|unreviewed|CBM2   \n",
       "706                 A0A238X701|unreviewed|non-specific   \n",
       "707                         A0A5D0T6V0|unreviewed|CBM2   \n",
       "708                             C3UVM5|unreviewed|CBM2   \n",
       "\n",
       "                                        EC#  \\\n",
       "65                    1.14.99.54|1.14.99.53   \n",
       "155                                       -   \n",
       "186                              3.2.1.78|-   \n",
       "224                   1.14.99.54|1.14.99.53   \n",
       "234                                 3.2.1.8   \n",
       "316                                       -   \n",
       "444                                       -   \n",
       "511                                       -   \n",
       "519                               3.2.1.4|-   \n",
       "538  3.2.1.4|3.2.1.78|3.2.1.145|3.2.1.132|-   \n",
       "624                                 3.2.1.8   \n",
       "651                 1.14.99.54|1.14.99.53|-   \n",
       "661                                 3.2.1.4   \n",
       "662                                 3.2.1.4   \n",
       "663                                 3.2.1.4   \n",
       "664                                 3.2.1.4   \n",
       "665                                 3.2.1.4   \n",
       "666                                 3.2.1.4   \n",
       "667                                 3.2.1.4   \n",
       "703                                 3.2.1.4   \n",
       "704                               3.2.1.4|-   \n",
       "705                                       -   \n",
       "706                                       -   \n",
       "707                                       -   \n",
       "708                                 3.2.1.4   \n",
       "\n",
       "                                          HMMER                     dbCAN_sub  \\\n",
       "65                                   CBM2(1-72)                      CBM2_e70   \n",
       "155                                AA10(38-218)                       AA10_e0   \n",
       "186                 GH5_8(39-293)+CBM2(438-538)              GH5_e22+CBM2_e31   \n",
       "224                  AA10(35-219)+CBM2(258-351)             AA10_e30+CBM2_e70   \n",
       "234                  GH10(50-344)+CBM2(367-458)            GH10_e90+CBM2_e115   \n",
       "316                 CBM2(123-206)+CBM2(229-323)             CBM2_e59+CBM2_e59   \n",
       "444                               CBM2(420-519)                      CBM2_e62   \n",
       "511                  CBM2(38-131)+CBM2(159-253)   CBM2_e56+CBM2_e56+GH18_e337   \n",
       "519                 GH5_1(62-379)+CBM2(455-550)             GH5_e271+CBM2_e52   \n",
       "538  CBM2(97-186)+GH5_2(225-462)+CBM13(518-654)  CBM2_e56+GH5_e251+CBM13_e360   \n",
       "624                  GH10(41-333)+CBM2(348-440)            GH10_e90+CBM2_e115   \n",
       "651                  AA10(12-195)+CBM2(213-298)             AA10_e30+CBM2_e10   \n",
       "661                                GH9(277-696)               CBM2_e3+GH9_e27   \n",
       "662                                GH9(277-696)               CBM2_e3+GH9_e27   \n",
       "663                                GH9(277-696)               CBM2_e3+GH9_e27   \n",
       "664                                GH9(276-695)               CBM2_e3+GH9_e27   \n",
       "665                                GH9(276-695)               CBM2_e3+GH9_e27   \n",
       "666                                GH9(276-695)               CBM2_e3+GH9_e27   \n",
       "667                                GH9(276-695)               CBM2_e3+GH9_e27   \n",
       "703                   CBM2(6-86)+GH5_1(235-563)             CBM2_e52+GH5_e161   \n",
       "704                                           N             CBM2_e27+CBM2_e21   \n",
       "705                                           N                     CBM2_e113   \n",
       "706                                           N                       CBM2_e7   \n",
       "707                                           N                     CBM2_e113   \n",
       "708                                           N                       CBM2_e3   \n",
       "\n",
       "        DIAMOND  Signalp  #ofTools             CBM2    AA10     uniprot  \n",
       "65            N        N         2             1-72          A0A177HRM1  \n",
       "155           N  Y(1-38)         2                   38-218  A0A1Z9B5K6  \n",
       "186  CBM2+GH5_8  Y(1-29)         3          438-538          A0A2P8I1Y2  \n",
       "224   AA10+CBM2  Y(1-35)         3          258-351  35-219  A0A345T3H0  \n",
       "234   CBM2+GH10  Y(1-45)         3          367-458          A0A3D0QQI1  \n",
       "316        CBM2        N         3  123-206+229-323          A0A5B9YDT5  \n",
       "444        CBM2  Y(1-33)         3          420-519          A0A7Z0Q2K9  \n",
       "511   CBM2+GH18        N         3   38-131+159-253          A0A964Q5W4  \n",
       "519  CBM2+GH5_1        N         3          455-550          A0A9E5S1C5  \n",
       "538           N        N         2           97-186          A0AA90R2S6  \n",
       "624   CBM2+GH10  Y(1-34)         3          348-440          A0AAU5DQH4  \n",
       "651   AA10+CBM2        N         3          213-298  12-195  A0AB37PM01  \n",
       "661    CBM2+GH9        N         3                               A0SGJ6  \n",
       "662    CBM2+GH9        N         3                               A0SGJ7  \n",
       "663    CBM2+GH9        N         3                               A0SGJ8  \n",
       "664    CBM2+GH9  Y(1-26)         3                               A0SGJ9  \n",
       "665    CBM2+GH9  Y(1-26)         3                               A0SGK0  \n",
       "666    CBM2+GH9  Y(1-26)         3                               A0SGK1  \n",
       "667    CBM2+GH9  Y(1-26)         3                               A0SGK2  \n",
       "703  CBM2+GH5_1        N         3             6-86              W9H1S5  \n",
       "704           N  Y(1-24)         1                           A0A0C2ZMV9  \n",
       "705           N        N         1                           A0A1N6S457  \n",
       "706        CBM2        N         2                           A0A238X701  \n",
       "707           N        N         1                           A0A5D0T6V0  \n",
       "708        CBM2        N         2                               C3UVM5  "
      ]
     },
     "metadata": {},
     "output_type": "display_data"
    }
   ],
   "source": [
    "# Inspect the sequences matching the MMH motif that do not meet the MMH structure criteria\n",
    "dbcan_df[dbcan_df.uniprot.isin(no_mmh_struc)]"
   ]
  },
  {
   "cell_type": "code",
   "execution_count": 221,
   "id": "77b368b5",
   "metadata": {},
   "outputs": [
    {
     "data": {
      "text/html": [
       "<div>\n",
       "<style scoped>\n",
       "    .dataframe tbody tr th:only-of-type {\n",
       "        vertical-align: middle;\n",
       "    }\n",
       "\n",
       "    .dataframe tbody tr th {\n",
       "        vertical-align: top;\n",
       "    }\n",
       "\n",
       "    .dataframe thead th {\n",
       "        text-align: right;\n",
       "    }\n",
       "</style>\n",
       "<table border=\"1\" class=\"dataframe\">\n",
       "  <thead>\n",
       "    <tr style=\"text-align: right;\">\n",
       "      <th></th>\n",
       "      <th>count</th>\n",
       "    </tr>\n",
       "    <tr>\n",
       "      <th>Domains</th>\n",
       "      <th></th>\n",
       "    </tr>\n",
       "  </thead>\n",
       "  <tbody>\n",
       "    <tr>\n",
       "      <th>AA10+CBM2</th>\n",
       "      <td>646</td>\n",
       "    </tr>\n",
       "    <tr>\n",
       "      <th>CBM2</th>\n",
       "      <td>33</td>\n",
       "    </tr>\n",
       "    <tr>\n",
       "      <th>AA10</th>\n",
       "      <td>3</td>\n",
       "    </tr>\n",
       "    <tr>\n",
       "      <th>AA10+CBM2+CBM2+GH18</th>\n",
       "      <td>1</td>\n",
       "    </tr>\n",
       "    <tr>\n",
       "      <th>GH5_40</th>\n",
       "      <td>1</td>\n",
       "    </tr>\n",
       "  </tbody>\n",
       "</table>\n",
       "</div>"
      ],
      "text/plain": [
       "                     count\n",
       "Domains                   \n",
       "AA10+CBM2              646\n",
       "CBM2                    33\n",
       "AA10                     3\n",
       "AA10+CBM2+CBM2+GH18      1\n",
       "GH5_40                   1"
      ]
     },
     "execution_count": 221,
     "metadata": {},
     "output_type": "execute_result"
    }
   ],
   "source": [
    "# Drop the false positives from the DBcan table\n",
    "dbcan_df = dbcan_df[~dbcan_df.uniprot.isin(no_mmh_struc)]\n",
    "# Check the domains present\n",
    "dbcan_df.Domains.value_counts().to_frame()"
   ]
  },
  {
   "cell_type": "code",
   "execution_count": 222,
   "id": "90bc9b75",
   "metadata": {},
   "outputs": [
    {
     "data": {
      "text/html": [
       "<div>\n",
       "<style scoped>\n",
       "    .dataframe tbody tr th:only-of-type {\n",
       "        vertical-align: middle;\n",
       "    }\n",
       "\n",
       "    .dataframe tbody tr th {\n",
       "        vertical-align: top;\n",
       "    }\n",
       "\n",
       "    .dataframe thead th {\n",
       "        text-align: right;\n",
       "    }\n",
       "</style>\n",
       "<table border=\"1\" class=\"dataframe\">\n",
       "  <thead>\n",
       "    <tr style=\"text-align: right;\">\n",
       "      <th></th>\n",
       "      <th>Gene ID</th>\n",
       "      <th>EC#</th>\n",
       "      <th>HMMER</th>\n",
       "      <th>dbCAN_sub</th>\n",
       "      <th>DIAMOND</th>\n",
       "      <th>Signalp</th>\n",
       "      <th>#ofTools</th>\n",
       "      <th>CBM2</th>\n",
       "      <th>AA10</th>\n",
       "      <th>uniprot</th>\n",
       "      <th>Domains</th>\n",
       "    </tr>\n",
       "  </thead>\n",
       "  <tbody>\n",
       "    <tr>\n",
       "      <th>510</th>\n",
       "      <td>A0A960BMZ2|unreviewed|chitinase|taxID:2900548</td>\n",
       "      <td>3.2.1.4|3.2.1.176|3.2.1.91|3.2.1.8|3.2.1.-|-</td>\n",
       "      <td>AA10(35-208)+CBM2(236-315)+CBM2(371-471)+GH18(...</td>\n",
       "      <td>AA10_e0+CBM2_e21+CBM2_e116+GH18_e427</td>\n",
       "      <td>CBM12+GH18</td>\n",
       "      <td>Y(1-35)</td>\n",
       "      <td>3</td>\n",
       "      <td>236-315+371-471</td>\n",
       "      <td>35-208</td>\n",
       "      <td>A0A960BMZ2</td>\n",
       "      <td>AA10+CBM2+CBM2+GH18</td>\n",
       "    </tr>\n",
       "    <tr>\n",
       "      <th>563</th>\n",
       "      <td>A0AAU1AR00|unreviewed|CBM2</td>\n",
       "      <td>3.2.1.78</td>\n",
       "      <td>GH5_40(293-523)</td>\n",
       "      <td>GH5_e171</td>\n",
       "      <td>CBM2+GH5_40</td>\n",
       "      <td>Y(1-29)</td>\n",
       "      <td>3</td>\n",
       "      <td></td>\n",
       "      <td></td>\n",
       "      <td>A0AAU1AR00</td>\n",
       "      <td>GH5_40</td>\n",
       "    </tr>\n",
       "  </tbody>\n",
       "</table>\n",
       "</div>"
      ],
      "text/plain": [
       "                                           Gene ID  \\\n",
       "510  A0A960BMZ2|unreviewed|chitinase|taxID:2900548   \n",
       "563                     A0AAU1AR00|unreviewed|CBM2   \n",
       "\n",
       "                                              EC#  \\\n",
       "510  3.2.1.4|3.2.1.176|3.2.1.91|3.2.1.8|3.2.1.-|-   \n",
       "563                                      3.2.1.78   \n",
       "\n",
       "                                                 HMMER  \\\n",
       "510  AA10(35-208)+CBM2(236-315)+CBM2(371-471)+GH18(...   \n",
       "563                                    GH5_40(293-523)   \n",
       "\n",
       "                                dbCAN_sub      DIAMOND  Signalp  #ofTools  \\\n",
       "510  AA10_e0+CBM2_e21+CBM2_e116+GH18_e427   CBM12+GH18  Y(1-35)         3   \n",
       "563                              GH5_e171  CBM2+GH5_40  Y(1-29)         3   \n",
       "\n",
       "                CBM2    AA10     uniprot              Domains  \n",
       "510  236-315+371-471  35-208  A0A960BMZ2  AA10+CBM2+CBM2+GH18  \n",
       "563                           A0AAU1AR00               GH5_40  "
      ]
     },
     "execution_count": 222,
     "metadata": {},
     "output_type": "execute_result"
    }
   ],
   "source": [
    "dbcan_df[dbcan_df.Domains.isin([\"AA10+CBM2+CBM2+GH18\", \"GH5_40\"])]"
   ]
  },
  {
   "cell_type": "code",
   "execution_count": 181,
   "id": "099961b0",
   "metadata": {},
   "outputs": [],
   "source": [
    "def get_domain_range(x, domain):\n",
    "    \"\"\"\n",
    "    Get the range of a domain in a domain architecture string (HMMER column)\n",
    "    \"\"\"\n",
    "    # split the string by +\n",
    "    domains = x.split(\"+\")\n",
    "    # iterate over the domains\n",
    "    rngs = []\n",
    "    for d in domains:\n",
    "        # check if the domain is in the string\n",
    "        if domain in d:\n",
    "            # get the range of the domain\n",
    "            rng = d.split(\"(\")[1].split(\")\")[0]\n",
    "            rngs.append(rng)\n",
    "    return rngs\n",
    "# Get the range of the CBM2 domain\n",
    "dbcan_df['CBM2'] = dbcan_df['HMMER'].apply(lambda x: '+'.join(get_domain_range(x, \"CBM2\")))\n",
    "# Get the range of the AA10 domain\n",
    "dbcan_df['AA10'] = dbcan_df['HMMER'].apply(lambda x: '+'.join(get_domain_range(x, \"AA10\")))"
   ]
  },
  {
   "cell_type": "code",
   "execution_count": 183,
   "id": "64642a03",
   "metadata": {},
   "outputs": [],
   "source": [
    "# Save the new table with the ranges\n",
    "dbcan_df.to_csv(\"../Data/03-find_motifs/MMH_dbcan_ranges.tsv\", sep=\"\\t\", index=False)"
   ]
  },
  {
   "cell_type": "code",
   "execution_count": 184,
   "id": "d8afce1c",
   "metadata": {},
   "outputs": [
    {
     "name": "stdout",
     "output_type": "stream",
     "text": [
      "number of sequences without AA10: 34\n"
     ]
    }
   ],
   "source": [
    "# Check the sequences that do not have AA10\n",
    "MMH_noAA10_df = dbcan_df[~dbcan_df[\"HMMER\"].str.contains(\"AA10\")]\n",
    "print(f\"number of sequences without AA10: {MMH_noAA10_df.shape[0]}\")\n"
   ]
  },
  {
   "cell_type": "code",
   "execution_count": null,
   "id": "a0606621",
   "metadata": {},
   "outputs": [],
   "source": [
    "# Make list of accessions for sequences without AA10\n",
    "accessions_MMH_noAA10 = MMH_noAA10_df[\"uniprot\"].to_list()\n",
    "# Include the sequences that are not in the DBcan table\n",
    "accessions_MMH_noAA10 += ids_not_in_dbcan\n",
    "# Save list of accessions to a file\n",
    "with open(\"../Data/03-find_motifs/MMH_noAA10_ids.txt\", \"w\") as f:\n",
    "    f.write(\"\\n\".join(accessions_MMH_noAA10))"
   ]
  },
  {
   "cell_type": "markdown",
   "id": "9e5dfac7",
   "metadata": {},
   "source": [
    "Manually inspect those structures in Pymol"
   ]
  },
  {
   "cell_type": "markdown",
   "id": "21ed51a4",
   "metadata": {},
   "source": [
    "## REF motif"
   ]
  },
  {
   "cell_type": "code",
   "execution_count": null,
   "id": "e1aa50e6",
   "metadata": {},
   "outputs": [
    {
     "name": "stderr",
     "output_type": "stream",
     "text": [
      "/var/folders/8b/6gnh0phx0m9b8bfsg25dk61c0000gn/T/ipykernel_36235/3634147182.py:24: SettingWithCopyWarning: \n",
      "A value is trying to be set on a copy of a slice from a DataFrame.\n",
      "Try using .loc[row_indexer,col_indexer] = value instead\n",
      "\n",
      "See the caveats in the documentation: https://pandas.pydata.org/pandas-docs/stable/user_guide/indexing.html#returning-a-view-versus-a-copy\n",
      "  dbcan_aa10_df['REF'] = dbcan_aa10_df.apply(check_REF, axis=1)\n"
     ]
    },
    {
     "data": {
      "text/plain": [
       "REF\n",
       "True     645\n",
       "False      5\n",
       "Name: count, dtype: int64"
      ]
     },
     "execution_count": 209,
     "metadata": {},
     "output_type": "execute_result"
    }
   ],
   "source": [
    "# Define the motif RXnEXF pattern using regular expressions\n",
    "motif_pattern = re.compile(r'R.{3,10}E.F')\n",
    "\n",
    "# Make a dataframe with the sequences that have a AA10 domain\n",
    "dbcan_aa10_df = dbcan_df[dbcan_df.AA10 != '']\n",
    "\n",
    "def check_REF(row):\n",
    "    \"\"\"\n",
    "    Check if the sequence has the REF motif\n",
    "    \"\"\"\n",
    "    # Get the sequence\n",
    "    sequence = [str(rec.seq) for rec in matches_full if rec.id.split(\"|\")[0] == row.uniprot][0]\n",
    "    # Get the range of the AA10 domain\n",
    "    aa10_start, aa10_end = map(int, row.AA10.split(\"-\"))\n",
    "    # Check if the sequence has the REF motif\n",
    "    sequence = sequence[aa10_start-1:aa10_end]\n",
    "    if motif_pattern.search(sequence):\n",
    "        return True\n",
    "    else:\n",
    "        return False\n",
    "\n",
    "dbcan_aa10_df['REF'] = dbcan_aa10_df.apply(check_REF, axis=1)\n",
    "# Write the sequences with the motif to a new file\n",
    "#SeqIO.write(matches, \"CBM2_MMH.fa\", \"fasta\")\n",
    "# print(f\"number of sequences with the motif: {len(matches_REF)}\")\n",
    "# print(f\"sequences with the motif written to: CBM2_MMH.fa\")\n",
    "dbcan_aa10_df.REF.value_counts()\n"
   ]
  },
  {
   "cell_type": "code",
   "execution_count": 210,
   "id": "74c78d46",
   "metadata": {},
   "outputs": [
    {
     "data": {
      "text/html": [
       "<div>\n",
       "<style scoped>\n",
       "    .dataframe tbody tr th:only-of-type {\n",
       "        vertical-align: middle;\n",
       "    }\n",
       "\n",
       "    .dataframe tbody tr th {\n",
       "        vertical-align: top;\n",
       "    }\n",
       "\n",
       "    .dataframe thead th {\n",
       "        text-align: right;\n",
       "    }\n",
       "</style>\n",
       "<table border=\"1\" class=\"dataframe\">\n",
       "  <thead>\n",
       "    <tr style=\"text-align: right;\">\n",
       "      <th></th>\n",
       "      <th>Gene ID</th>\n",
       "      <th>EC#</th>\n",
       "      <th>HMMER</th>\n",
       "      <th>dbCAN_sub</th>\n",
       "      <th>DIAMOND</th>\n",
       "      <th>Signalp</th>\n",
       "      <th>#ofTools</th>\n",
       "      <th>CBM2</th>\n",
       "      <th>AA10</th>\n",
       "      <th>uniprot</th>\n",
       "      <th>Domains</th>\n",
       "      <th>REF</th>\n",
       "    </tr>\n",
       "  </thead>\n",
       "  <tbody>\n",
       "    <tr>\n",
       "      <th>175</th>\n",
       "      <td>A0A286FEU9|unreviewed|CBM2</td>\n",
       "      <td>1.14.99.54|1.14.99.53</td>\n",
       "      <td>AA10(51-192)+CBM2(236-326)</td>\n",
       "      <td>AA10_e30+CBM2_e70</td>\n",
       "      <td>AA10+CBM2</td>\n",
       "      <td>N</td>\n",
       "      <td>3</td>\n",
       "      <td>236-326</td>\n",
       "      <td>51-192</td>\n",
       "      <td>A0A286FEU9</td>\n",
       "      <td>AA10+CBM2</td>\n",
       "      <td>False</td>\n",
       "    </tr>\n",
       "    <tr>\n",
       "      <th>198</th>\n",
       "      <td>A0A2T0UIF0|unreviewed|CBM2</td>\n",
       "      <td>1.14.99.54|1.14.99.56|-</td>\n",
       "      <td>AA10(41-233)+CBM2(276-364)</td>\n",
       "      <td>AA10_e50+CBM2_e125</td>\n",
       "      <td>AA10+CBM2</td>\n",
       "      <td>Y(1-43)</td>\n",
       "      <td>3</td>\n",
       "      <td>276-364</td>\n",
       "      <td>41-233</td>\n",
       "      <td>A0A2T0UIF0</td>\n",
       "      <td>AA10+CBM2</td>\n",
       "      <td>False</td>\n",
       "    </tr>\n",
       "    <tr>\n",
       "      <th>449</th>\n",
       "      <td>A0A850CCJ8|unreviewed|CBM2</td>\n",
       "      <td>1.14.99.54|1.14.99.56|-</td>\n",
       "      <td>AA10(39-231)+CBM2(274-362)</td>\n",
       "      <td>AA10_e50+CBM2_e125</td>\n",
       "      <td>AA10+CBM2</td>\n",
       "      <td>Y(1-41)</td>\n",
       "      <td>3</td>\n",
       "      <td>274-362</td>\n",
       "      <td>39-231</td>\n",
       "      <td>A0A850CCJ8</td>\n",
       "      <td>AA10+CBM2</td>\n",
       "      <td>False</td>\n",
       "    </tr>\n",
       "    <tr>\n",
       "      <th>497</th>\n",
       "      <td>A0A927IQN1|unreviewed|CBM2</td>\n",
       "      <td>1.14.99.54|1.14.99.56</td>\n",
       "      <td>AA10(42-224)</td>\n",
       "      <td>AA10_e50+CBM2_e17</td>\n",
       "      <td>AA10+CBM2</td>\n",
       "      <td>Y(1-42)</td>\n",
       "      <td>3</td>\n",
       "      <td></td>\n",
       "      <td>42-224</td>\n",
       "      <td>A0A927IQN1</td>\n",
       "      <td>AA10</td>\n",
       "      <td>False</td>\n",
       "    </tr>\n",
       "    <tr>\n",
       "      <th>532</th>\n",
       "      <td>A0A9X3SVM0|unreviewed|CBM2</td>\n",
       "      <td>1.14.99.54|1.14.99.56</td>\n",
       "      <td>AA10(49-241)+CBM2(280-366)</td>\n",
       "      <td>AA10_e50+CBM2_e95</td>\n",
       "      <td>AA10+CBM2</td>\n",
       "      <td>N</td>\n",
       "      <td>3</td>\n",
       "      <td>280-366</td>\n",
       "      <td>49-241</td>\n",
       "      <td>A0A9X3SVM0</td>\n",
       "      <td>AA10+CBM2</td>\n",
       "      <td>False</td>\n",
       "    </tr>\n",
       "  </tbody>\n",
       "</table>\n",
       "</div>"
      ],
      "text/plain": [
       "                        Gene ID                      EC#  \\\n",
       "175  A0A286FEU9|unreviewed|CBM2    1.14.99.54|1.14.99.53   \n",
       "198  A0A2T0UIF0|unreviewed|CBM2  1.14.99.54|1.14.99.56|-   \n",
       "449  A0A850CCJ8|unreviewed|CBM2  1.14.99.54|1.14.99.56|-   \n",
       "497  A0A927IQN1|unreviewed|CBM2    1.14.99.54|1.14.99.56   \n",
       "532  A0A9X3SVM0|unreviewed|CBM2    1.14.99.54|1.14.99.56   \n",
       "\n",
       "                          HMMER           dbCAN_sub    DIAMOND  Signalp  \\\n",
       "175  AA10(51-192)+CBM2(236-326)   AA10_e30+CBM2_e70  AA10+CBM2        N   \n",
       "198  AA10(41-233)+CBM2(276-364)  AA10_e50+CBM2_e125  AA10+CBM2  Y(1-43)   \n",
       "449  AA10(39-231)+CBM2(274-362)  AA10_e50+CBM2_e125  AA10+CBM2  Y(1-41)   \n",
       "497                AA10(42-224)   AA10_e50+CBM2_e17  AA10+CBM2  Y(1-42)   \n",
       "532  AA10(49-241)+CBM2(280-366)   AA10_e50+CBM2_e95  AA10+CBM2        N   \n",
       "\n",
       "     #ofTools     CBM2    AA10     uniprot    Domains    REF  \n",
       "175         3  236-326  51-192  A0A286FEU9  AA10+CBM2  False  \n",
       "198         3  276-364  41-233  A0A2T0UIF0  AA10+CBM2  False  \n",
       "449         3  274-362  39-231  A0A850CCJ8  AA10+CBM2  False  \n",
       "497         3           42-224  A0A927IQN1       AA10  False  \n",
       "532         3  280-366  49-241  A0A9X3SVM0  AA10+CBM2  False  "
      ]
     },
     "execution_count": 210,
     "metadata": {},
     "output_type": "execute_result"
    }
   ],
   "source": [
    "dbcan_aa10_df[~dbcan_aa10_df.REF]"
   ]
  },
  {
   "cell_type": "markdown",
   "id": "b2e62910",
   "metadata": {},
   "source": [
    "## Alphafold"
   ]
  },
  {
   "cell_type": "code",
   "execution_count": 38,
   "id": "0994c9f3",
   "metadata": {},
   "outputs": [],
   "source": [
    "# rename the files in the structures directory\n",
    "for file in os.listdir(\"../05-structures\"):\n",
    "    if file.endswith(\".pdb\") or file.endswith(\".json\"):\n",
    "        # get the uniprot id from the file name\n",
    "        uniprot_id = file.split(\"-\")[1]\n",
    "        extension = file.split(\".\")[-1]\n",
    "        # rename the file\n",
    "        if extension == \"pdb\":\n",
    "            os.rename(os.path.join(\"../05-structures\", file), os.path.join(\"../05-structures\", f\"{uniprot_id}_AFDB.pdb\"))\n",
    "        elif extension == \"json\":\n",
    "            os.rename(os.path.join(\"../05-structures\", file), os.path.join(\"../05-structures\", f\"{uniprot_id}_AFDB_PAE.json\"))"
   ]
  },
  {
   "cell_type": "code",
   "execution_count": 39,
   "id": "ca4ccd69",
   "metadata": {},
   "outputs": [
    {
     "name": "stdout",
     "output_type": "stream",
     "text": [
      "number of structures: 501\n",
      "number of sequences not in the structures directory: 212\n"
     ]
    }
   ],
   "source": [
    "struc_list = [f.split('_')[0] for f in os.listdir('../05-structures/') if f.endswith('.pdb')]\n",
    "print(f\"number of structures: {len(struc_list)}\")\n",
    "# Check which sequences are not in the structures directory\n",
    "ids_not_in_structures = [i for i in uniprot_ids if i not in struc_list]\n",
    "print(f\"number of sequences not in the structures directory: {len(ids_not_in_structures)}\")"
   ]
  },
  {
   "cell_type": "code",
   "execution_count": null,
   "id": "c5acdb72",
   "metadata": {},
   "outputs": [
    {
     "name": "stdout",
     "output_type": "stream",
     "text": [
      "number of structures with MMH non-AA10: 42\n"
     ]
    }
   ],
   "source": [
    "# Chenck which MMH-containing non-AA10 are in the structures directory\n",
    "structures_MMH_noAA10 = [i for i in accessions_MMH_noAA10 if i in struc_list]\n",
    "print(f\"number of structures with MMH non-AA10: {len(structures_MMH_noAA10)}\")"
   ]
  },
  {
   "cell_type": "code",
   "execution_count": 56,
   "id": "a63317e0",
   "metadata": {},
   "outputs": [
    {
     "name": "stdout",
     "output_type": "stream",
     "text": [
      "number of sequences to predict: 18\n"
     ]
    }
   ],
   "source": [
    "to_predict_noAA10 = [i for i in accessions_MMH_noAA10 if i not in struc_list]\n",
    "print(f\"number of sequences to predict: {len(to_predict_noAA10)}\")"
   ]
  },
  {
   "cell_type": "code",
   "execution_count": 44,
   "id": "d23abe32",
   "metadata": {},
   "outputs": [
    {
     "name": "stdout",
     "output_type": "stream",
     "text": [
      "number of sequences to predict: 212\n"
     ]
    }
   ],
   "source": [
    "# Retrieve the sequences that are not in the structures directory\n",
    "matches_full_to_predict = [rec for rec in matches_full if rec.id.split(\"|\")[0] in ids_not_in_structures]\n",
    "print(f\"number of sequences to predict: {len(matches_full_to_predict)}\")\n",
    "# make a directory to store the sequences\n",
    "if not os.path.exists(\"../05-structures/fastas_to_predict\"):\n",
    "    os.makedirs(\"../05-structures/fastas_to_predict\")\n",
    "# Write the sequences to single fasta files\n",
    "for rec in matches_full_to_predict:\n",
    "    SeqIO.write(rec, f\"../05-structures/fastas_to_predict/{rec.id.split('|')[0]}.fa\", \"fasta\")\n"
   ]
  },
  {
   "cell_type": "code",
   "execution_count": 60,
   "id": "65c5ba1f",
   "metadata": {},
   "outputs": [
    {
     "name": "stdout",
     "output_type": "stream",
     "text": [
      "number of sequences to predict: 18\n"
     ]
    }
   ],
   "source": [
    "# Retrieve the sequences that are not in the structures directory\n",
    "matches_full_to_predict_noAA10 = [rec for rec in matches_full if rec.id.split(\"|\")[0] in to_predict_noAA10]\n",
    "print(f\"number of sequences to predict: {len(matches_full_to_predict_noAA10)}\")\n",
    "# make a directory to store the sequences\n",
    "if not os.path.exists(\"../05-structures/fastas_to_predict_noAA10\"):\n",
    "    os.makedirs(\"../05-structures/fastas_to_predict_noAA10\")\n",
    "# Write the sequences to single fasta files\n",
    "for rec in matches_full_to_predict_noAA10:\n",
    "    SeqIO.write(rec, f\"../05-structures/fastas_to_predict_noAA10/{rec.id.split('|')[0]}.fasta\", \"fasta\")\n"
   ]
  },
  {
   "cell_type": "markdown",
   "id": "38b65dc4",
   "metadata": {},
   "source": [
    "## AA10 subset"
   ]
  },
  {
   "cell_type": "code",
   "execution_count": 14,
   "id": "976458a5",
   "metadata": {},
   "outputs": [
    {
     "name": "stdout",
     "output_type": "stream",
     "text": [
      "number of sequences read: 483\n",
      "number of sequences with the motif: 167\n",
      "sequences with the motif written to: aa10_cbm2_h1_mafft_motif.fa\n"
     ]
    }
   ],
   "source": [
    "# find the same motif but now for the file /Subset_AA10_CBM2/aa10_cbm2_h1_mafft.fas\n",
    "recs = list(SeqIO.parse(\"./Subset_AA10_CBM2/aa10_cbm2_h1_mafft.fas\", \"fasta\"))\n",
    "print(f\"number of sequences read: {len(recs)}\")\n",
    "\n",
    "sequences = SeqIO.parse(\"./Subset_AA10_CBM2/aa10_cbm2_h1_mafft.fas\", \"fasta\")\n",
    "matches_subset = []\n",
    "\n",
    "for seq_record in sequences:\n",
    "    sequence = str(seq_record.seq)\n",
    "    if motif_pattern.search(sequence):\n",
    "        matches_subset.append(seq_record)\n",
    "\n",
    "SeqIO.write(matches_subset, \"aa10_cbm2_h1_mafft_motif.fa\", \"fasta\")\n",
    "print(f\"number of sequences with the motif: {len(matches_subset)}\")\n",
    "print(f\"sequences with the motif written to: aa10_cbm2_h1_mafft_motif.fa\")\n"
   ]
  },
  {
   "cell_type": "code",
   "execution_count": 17,
   "id": "06b7d0fb",
   "metadata": {},
   "outputs": [
    {
     "name": "stdout",
     "output_type": "stream",
     "text": [
      "Number of accessions: 60\n"
     ]
    }
   ],
   "source": [
    "accession_list = []\n",
    "listpath = './accessions_MMH_noAA10.txt'  # Path to the file containing the list of accessions\n",
    "with open(listpath, 'r') as f:\n",
    "    for line in f:\n",
    "        accession = line.strip()\n",
    "        if accession:\n",
    "            accession_list.append(accession)\n",
    "print(f\"Number of accessions: {len(accession_list)}\")\n",
    "\n",
    "# Read the TSV file\n",
    "tsv_path = './MMH_dbcan_ranges.tsv'  # Path to the TSV file\n",
    "df = pd.read_csv(tsv_path, sep='\\t').set_index('uniprot')\n",
    "\n",
    "# load the PDB files\n",
    "pdbdir = '../05-structures'  # Directory where the PDB files are located\n",
    "pdbs_list = os.listdir(pdbdir)\n",
    "loadpdbs = [pdb for pdb in pdbs_list if pdb.endswith('.pdb') and pdb.split('_')[0] in accession_list]"
   ]
  },
  {
   "cell_type": "code",
   "execution_count": 19,
   "id": "556e3a20",
   "metadata": {},
   "outputs": [
    {
     "name": "stdout",
     "output_type": "stream",
     "text": [
      "A0A2W2C8Z9\n",
      "A0A8J3W6H5\n",
      "A0A919HIY4\n",
      "A0A4R4T1E0\n",
      "A0SGK1\n",
      "A0SGK0\n",
      "A0A9E5S1C5\n",
      "A0A2Z3V0Y7\n",
      "A0AAT9HKG3\n",
      "A0A1N6S457\n",
      "A0SGJ6\n",
      "A0SGJ7\n",
      "A0A852V6J6\n",
      "A0A1G4SCK8\n",
      "A0A5B9YDT5\n",
      "A0A0C2ZMV9\n",
      "A0A1I3ZA19\n",
      "A0A919R3Z2\n",
      "A0A1A5PEJ3\n",
      "A0A7W9IJN7\n",
      "A0AAU1AR00\n",
      "A0A841D042\n",
      "A0A919GDD7\n",
      "A0A2P8I1Y2\n",
      "A0A177HRM1\n",
      "A0A238X701\n",
      "A0A161LNA8\n",
      "A0A3D0QQI1\n",
      "A0A317DD42\n",
      "A0A4R4RBH4\n",
      "A0A7Z0Q2K9\n",
      "A0A239BC39\n",
      "A0A964Q5W4\n",
      "A0A2C9ZMF8\n",
      "A0A5D0T6V0\n",
      "A0A8G1MZR7\n",
      "A0A4U3M952\n",
      "A0SGK2\n",
      "A0A917VHU9\n",
      "A0A7K2LVM1\n",
      "A0A1C4S8W3\n",
      "A0A136PIB4\n",
      "A0A8J3T5M3\n",
      "A0A3A9TC94\n",
      "A0A4R4S909\n",
      "A0A8J3N5H7\n",
      "A0A8J3WEQ3\n",
      "A0A1H2UGA1\n",
      "A0AAU6E611\n",
      "A0AAU5DQH4\n",
      "C3UVM5\n",
      "W9H1S5\n",
      "A0A7C9P2B5\n",
      "A0AA90R2S6\n",
      "D2BFT4\n",
      "A0A367FGZ3\n",
      "A0A8J3SYF7\n",
      "A0SGJ8\n",
      "A0SGJ9\n",
      "A0A2W2C5N1\n"
     ]
    }
   ],
   "source": [
    "for l in loadpdbs:\n",
    "    print(l.split('_')[0])"
   ]
  }
 ],
 "metadata": {
  "kernelspec": {
   "display_name": "grl39-64",
   "language": "python",
   "name": "python3"
  },
  "language_info": {
   "codemirror_mode": {
    "name": "ipython",
    "version": 3
   },
   "file_extension": ".py",
   "mimetype": "text/x-python",
   "name": "python",
   "nbconvert_exporter": "python",
   "pygments_lexer": "ipython3",
   "version": "3.9.16"
  }
 },
 "nbformat": 4,
 "nbformat_minor": 5
}
